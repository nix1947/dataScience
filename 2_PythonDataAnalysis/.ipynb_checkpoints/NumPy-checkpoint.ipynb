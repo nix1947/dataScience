{
 "cells": [
  {
   "cell_type": "markdown",
   "metadata": {},
   "source": [
    "## Numpy\n",
    "- The NumPy library is the core library for scientific computing in Python. It provides a high-performance multidimensional array object, and tools for working with these arrays. \n",
    "\n",
    "- Numpy cheatsheet <a href=\"https://s3.amazonaws.com/assets.datacamp.com/blog_assets/Numpy_Python_Cheat_Sheet.pdf\">Cheatsheet</a>\n",
    "- NumPy (or Numpy) is a Linear Algebra Library for Python, the reason it is so important for Data Science with Python is that almost all of the libraries in the PyData Ecosystem rely on NumPy as one of their main building blocks.\n",
    "\n",
    "### Installation\n",
    "` conda install numpy`\n",
    "\n",
    "### Importing Numpy\n",
    "```python\n",
    "import numpy as np\n",
    "```\n",
    "\n",
    "- Numpy has many built-in functions and capabilities to work with different data structures such as vectors,arrays,matrices, and number generation. "
   ]
  },
  {
   "cell_type": "markdown",
   "metadata": {},
   "source": [
    "### Creating Numpy arrays"
   ]
  },
  {
   "cell_type": "code",
   "execution_count": 3,
   "metadata": {},
   "outputs": [
    {
     "name": "stdout",
     "output_type": "stream",
     "text": [
      "[1 2 3]\n",
      "<class 'numpy.ndarray'>\n"
     ]
    },
    {
     "data": {
      "text/plain": [
       "array([[1, 2, 3],\n",
       "       [4, 5, 6],\n",
       "       [7, 8, 9]])"
      ]
     },
     "execution_count": 3,
     "metadata": {},
     "output_type": "execute_result"
    }
   ],
   "source": [
    "import numpy as np \n",
    "\n",
    "# From python list. \n",
    "my_list = [1,2,3]\n",
    "\n",
    "# Create numpy array\n",
    "numpy_array = np.array(my_list)\n",
    "print(numpy_array)\n",
    "print(type(numpy_array))\n",
    "\n",
    "# Create numpy 3 x 3 matrix \n",
    "matrix = [[1, 2, 3], [4, 5, 6], [7, 8, 9]] \n",
    "np.array(matrix)\n"
   ]
  },
  {
   "cell_type": "markdown",
   "metadata": {},
   "source": [
    "### Numpy builtin methods\n",
    "- Standard function to process with numpy data\n",
    "- Some of the built in methods are `arange`, `zeros`, `ones`, `linspace`, `eye`\n"
   ]
  },
  {
   "cell_type": "code",
   "execution_count": 139,
   "metadata": {},
   "outputs": [
    {
     "data": {
      "text/plain": [
       "array([[1., 1.],\n",
       "       [1., 1.],\n",
       "       [1., 1.]])"
      ]
     },
     "execution_count": 139,
     "metadata": {},
     "output_type": "execute_result"
    }
   ],
   "source": [
    "# Generate sequence of values within a given interval \n",
    "np.arange(0, 10)\n",
    "\n",
    "# Generate evenly spaced values with a given range\n",
    "np.arange(0, 11, 2) \n",
    "\n",
    "# Generate arrays of zeros or ones\n",
    "np.zeros(3)\n",
    "\n",
    "# Generate 5x5 matrix with zero values\n",
    "np.zeros((5, 5))\n",
    "\n",
    "# Generate 1's with size 5\n",
    "np.ones(5)\n",
    "\n",
    "# Generate 10 X 10 matrix with values of 1 \n",
    "np.ones((10, 10))\n",
    "\n",
    "# Return evenly spaced numbers over a specified interval.\n",
    "# Generate sequence of number having interval 3\n",
    "np.linspace(0, 10, 3) # Generate 3 values within a linspace\n",
    "np.linspace(0, 100, 2) # Generate 2 values within a space\n",
    "np.linspace(0, 100, 200) # Generate 100 values within a space\n",
    "\n",
    "# Create an identity matrix of size 100x100 with eye method\n",
    "len(np.eye(100)) # print the size of matrix\n",
    "np.eye(100)\n",
    "\n",
    "# Creating an array with constant value\n",
    "np.full((100,2), 'M')\n",
    "\n",
    "# Create an empyt array\n",
    "np.empty((3,2))\n"
   ]
  },
  {
   "cell_type": "markdown",
   "metadata": {},
   "source": [
    "### Generating random numbers \n",
    "- Use `rand, randn, randnt` methods to generate random numbers.\n"
   ]
  },
  {
   "cell_type": "code",
   "execution_count": 28,
   "metadata": {},
   "outputs": [
    {
     "data": {
      "text/plain": [
       "array([[0.44024301, 0.98551596, 0.14921605, 0.80174085, 0.75791398],\n",
       "       [0.4364905 , 0.75336553, 0.30968794, 0.4528881 , 0.72873234],\n",
       "       [0.98627562, 0.17410606, 0.79735969, 0.0873303 , 0.27692562],\n",
       "       [0.35147572, 0.49340499, 0.36805745, 0.26082237, 0.02572437],\n",
       "       [0.54726177, 0.20682091, 0.28188958, 0.3779648 , 0.87548252]])"
      ]
     },
     "execution_count": 28,
     "metadata": {},
     "output_type": "execute_result"
    }
   ],
   "source": [
    "# Using of rand \n",
    "# Create an array of the given shape and populate it with random samples from \n",
    "# a uniform distribution over [0, 1]\n",
    "np.random.rand(2)\n",
    "\n",
    "# random numbers between 0 to 1 of size 5 X 5\n",
    "np.random.rand(5, 5)"
   ]
  },
  {
   "cell_type": "markdown",
   "metadata": {},
   "source": [
    "### Using of `randn`\n",
    "- Return a sample from the `standard normal` distribution. Unlike rand which is uniform.\n"
   ]
  },
  {
   "cell_type": "code",
   "execution_count": 30,
   "metadata": {},
   "outputs": [
    {
     "data": {
      "text/plain": [
       "array([[-0.7065241 , -0.34669974, -0.09567644, -1.74673572, -1.92129551],\n",
       "       [ 0.01381161,  0.86019404, -1.55991354,  1.01061077,  0.23360704],\n",
       "       [ 0.16965672,  0.33864637, -0.83116383,  0.59493677,  0.84958042],\n",
       "       [-1.06271093,  0.5698051 ,  1.84914603,  0.21305213, -0.37399841],\n",
       "       [-0.61089139, -0.26809857, -1.48490105,  1.42621904, -1.01693536]])"
      ]
     },
     "execution_count": 30,
     "metadata": {},
     "output_type": "execute_result"
    }
   ],
   "source": [
    "np.random.randn(2)\n",
    "np.random.randn(5,5)"
   ]
  },
  {
   "cell_type": "markdown",
   "metadata": {},
   "source": [
    "### `randint`\n",
    "- Return random integers from low(inclusive) to high (exclusive)"
   ]
  },
  {
   "cell_type": "code",
   "execution_count": 62,
   "metadata": {},
   "outputs": [
    {
     "data": {
      "text/plain": [
       "array([ 4, 42, 29, 40, 94, 26, 27, 25, 38, 57, 40, 37, 18, 69, 80, 94, 85,\n",
       "       90, 48, 40, 48, 23, 66, 16, 46, 24, 41, 87, 71, 49, 30, 34, 98, 77,\n",
       "       82, 67, 60, 58, 37, 46, 91, 21, 66, 85, 28, 16, 83, 10, 93,  1, 32,\n",
       "        6, 57, 88, 54, 68, 77, 17, 45, 90, 82, 23, 29, 16, 96, 30, 34, 25,\n",
       "       39, 55, 73, 56, 47, 90, 78, 85, 71, 71, 99, 31, 68, 92, 30, 11, 70,\n",
       "       13, 67, 70, 35, 83, 77, 70, 66, 61, 63, 25, 52, 39, 22, 78, 98,  5,\n",
       "       72, 27, 59, 32, 97, 80, 11, 66, 37, 50, 21, 98, 30, 99, 78, 78, 67,\n",
       "       50, 67, 83,  8, 84, 74,  1, 64, 27,  7, 55, 56, 87, 51, 97, 97, 70,\n",
       "       88, 98, 49, 61, 39,  9, 40, 81, 59, 36, 76, 39, 69, 33,  7, 97, 53,\n",
       "        6, 50, 63, 61, 42, 72, 58, 99, 23,  8, 43, 99, 19, 18, 76, 13, 56,\n",
       "       97, 19, 21, 92, 48, 24,  9, 96, 76, 48, 73, 91, 17, 63, 30, 36, 48,\n",
       "       28, 96, 49, 26, 82, 45, 16, 31, 49, 96, 96, 70, 97, 32, 93, 89, 91,\n",
       "       33, 66, 10, 24, 63, 60, 27, 54, 63,  2, 67, 61, 78, 40,  7, 93, 57,\n",
       "       27, 58, 13, 97,  5, 98, 21, 24, 63, 68, 73, 15, 58, 62, 93, 78, 19,\n",
       "       77, 52, 67, 30, 46, 54, 48, 98, 27, 88, 39, 73, 60, 43, 19, 49, 17,\n",
       "        8, 12, 42, 46, 61, 84, 21, 30, 52, 48, 63, 48, 64, 18, 39, 31, 79,\n",
       "       17, 95,  8, 55, 96, 40, 14, 35,  8, 43, 84, 93, 69,  2, 47, 60, 78,\n",
       "       16, 87, 95, 57, 22, 18, 11, 43, 70, 41, 73])"
      ]
     },
     "execution_count": 62,
     "metadata": {},
     "output_type": "execute_result"
    }
   ],
   "source": [
    "# Generate random value between 1 to 100 include 1 exclude 100\n",
    "np.random.randint(1, 100)\n",
    "\n",
    "# Generate 300 random integer value between 1 to 100 with 1 inclusive and \n",
    "# 100 exclusive \n",
    "np.random.randint(1, 100, 300)"
   ]
  },
  {
   "cell_type": "markdown",
   "metadata": {},
   "source": [
    "### Array attribute and methods\n",
    "- Generate 100 x 100 size matrix populate with random integer value"
   ]
  },
  {
   "cell_type": "code",
   "execution_count": 48,
   "metadata": {},
   "outputs": [
    {
     "name": "stdout",
     "output_type": "stream",
     "text": [
      "[[277 344 867 ... 650 284 789]\n",
      " [554 844 276 ... 539 334 662]\n",
      " [748 208 180 ... 875 101 722]\n",
      " ...\n",
      " [573  78 471 ... 537 721 314]\n",
      " [885 366 673 ...  72 716 886]\n",
      " [852 722 847 ... 739 899 322]]\n"
     ]
    },
    {
     "data": {
      "text/plain": [
       "100"
      ]
     },
     "execution_count": 48,
     "metadata": {},
     "output_type": "execute_result"
    }
   ],
   "source": [
    "# 100 x 100 matrix size contain total 10000 elements \n",
    "# Generate random array with 10,000 elements\n",
    "array_list = np.random.randint(1, 1000, 10000)\n",
    "\n",
    "# You can use arange function \n",
    "arr = np.arange(1, 26)\n",
    "\n",
    "arr.reshape(5, 5)\n",
    "\n",
    "# Use `reshape` method to create 100 x 100 matrx \n",
    "matrix = array_list.reshape(100, 100)\n",
    "print(matrix)\n",
    "len(matrix)"
   ]
  },
  {
   "cell_type": "markdown",
   "metadata": {},
   "source": [
    "## Reshaping\n",
    "- Return an array containing the same data with a new shape\n"
   ]
  },
  {
   "cell_type": "code",
   "execution_count": 51,
   "metadata": {},
   "outputs": [
    {
     "data": {
      "text/plain": [
       "array([[ 0,  1,  2,  3,  4],\n",
       "       [ 5,  6,  7,  8,  9],\n",
       "       [10, 11, 12, 13, 14],\n",
       "       [15, 16, 17, 18, 19],\n",
       "       [20, 21, 22, 23, 24]])"
      ]
     },
     "execution_count": 51,
     "metadata": {},
     "output_type": "execute_result"
    }
   ],
   "source": [
    "arr = np.arange(25)\n",
    "arr.reshape(5, 5)"
   ]
  },
  {
   "cell_type": "markdown",
   "metadata": {},
   "source": [
    "## Using max, min, argmax  and argmin\n",
    "- Useful methods for finding `min` and `max` and `argmax` and `argmin`.\n",
    "- `argmin and argmax` use to find ther index locations."
   ]
  },
  {
   "cell_type": "code",
   "execution_count": 75,
   "metadata": {},
   "outputs": [
    {
     "name": "stdout",
     "output_type": "stream",
     "text": [
      "Length of arr values 500\n"
     ]
    },
    {
     "data": {
      "text/plain": [
       "351"
      ]
     },
     "execution_count": 75,
     "metadata": {},
     "output_type": "execute_result"
    }
   ],
   "source": [
    "arr = np.random.randint(0, 3000, 500) # generate 500 elements\n",
    "print(\"Length of arr values\", len(arr))\n",
    "\n",
    "# Find max value\n",
    "max_value = arr.max()\n",
    "\n",
    "# Find min value \n",
    "max_value = arr.min()\n",
    "\n",
    "# finding the location of maxmium value \n",
    "arr.argmax()\n",
    "\n",
    "# finding the locatio of minimum value\n",
    "arr.argmin()"
   ]
  },
  {
   "cell_type": "markdown",
   "metadata": {},
   "source": [
    "## Attribute of shape. \n",
    "- Shape is an attribute that arrays have(not a method)\n"
   ]
  },
  {
   "cell_type": "code",
   "execution_count": 85,
   "metadata": {
    "scrolled": true
   },
   "outputs": [
    {
     "data": {
      "text/plain": [
       "dtype('int32')"
      ]
     },
     "execution_count": 85,
     "metadata": {},
     "output_type": "execute_result"
    }
   ],
   "source": [
    "# Vector: give size:\n",
    "arr.shape\n",
    "\n",
    "# Reshape the array and display the size\n",
    "# it will print 1*500\n",
    "arr.reshape(1, 500).shape\n",
    "\n",
    "# 500 X 1 \n",
    "arr.reshape(500,1)\n",
    "arr.reshape(500,1).shape\n",
    "\n",
    "# Display the data type\n",
    "arr.dtype"
   ]
  },
  {
   "cell_type": "markdown",
   "metadata": {},
   "source": [
    "## Inspecting arrays\n",
    "- Use the methods like `shape, len, ndim, size, dtype, dtype.name, astype` to inspect an array\n"
   ]
  },
  {
   "cell_type": "code",
   "execution_count": 135,
   "metadata": {},
   "outputs": [
    {
     "name": "stdout",
     "output_type": "stream",
     "text": [
      "Dimiension of an arry is 1\n",
      "Size of an arry is 200\n",
      "Data types in arry are int32\n",
      "data type names are int32\n",
      "Data type conversion from int32 to float [  0.   1.   2.   3.   4.   5.   6.   7.   8.   9.  10.  11.  12.  13.\n",
      "  14.  15.  16.  17.  18.  19.  20.  21.  22.  23.  24.  25.  26.  27.\n",
      "  28.  29.  30.  31.  32.  33.  34.  35.  36.  37.  38.  39.  40.  41.\n",
      "  42.  43.  44.  45.  46.  47.  48.  49.  50.  51.  52.  53.  54.  55.\n",
      "  56.  57.  58.  59.  60.  61.  62.  63.  64.  65.  66.  67.  68.  69.\n",
      "  70.  71.  72.  73.  74.  75.  76.  77.  78.  79.  80.  81.  82.  83.\n",
      "  84.  85.  86.  87.  88.  89.  90.  91.  92.  93.  94.  95.  96.  97.\n",
      "  98.  99. 100. 101. 102. 103. 104. 105. 106. 107. 108. 109. 110. 111.\n",
      " 112. 113. 114. 115. 116. 117. 118. 119. 120. 121. 122. 123. 124. 125.\n",
      " 126. 127. 128. 129. 130. 131. 132. 133. 134. 135. 136. 137. 138. 139.\n",
      " 140. 141. 142. 143. 144. 145. 146. 147. 148. 149. 150. 151. 152. 153.\n",
      " 154. 155. 156. 157. 158. 159. 160. 161. 162. 163. 164. 165. 166. 167.\n",
      " 168. 169. 170. 171. 172. 173. 174. 175. 176. 177. 178. 179. 180. 181.\n",
      " 182. 183. 184. 185. 186. 187. 188. 189. 190. 191. 192. 193. 194. 195.\n",
      " 196. 197. 198. 199.]\n"
     ]
    }
   ],
   "source": [
    "arr = np.arange(200)\n",
    "arr.shape\n",
    "len(arr)\n",
    "print(\"Dimiension of an arry is\", arr.ndim)\n",
    "print(\"Size of an arry is\", arr.size)\n",
    "print(\"Data types in arry are\",arr.dtype)\n",
    "print(\"data type names are\",arr.dtype.name)\n",
    "print(\"Data type conversion from int32 to float\", arr.astype(float))"
   ]
  },
  {
   "cell_type": "markdown",
   "metadata": {},
   "source": [
    "## Numpy operations\n",
    "- some basic operations with numpy\n",
    "- Following are the example of aggregate functions in numpy"
   ]
  },
  {
   "cell_type": "code",
   "execution_count": 129,
   "metadata": {
    "scrolled": true
   },
   "outputs": [
    {
     "name": "stdout",
     "output_type": "stream",
     "text": [
      "standard dev is 861.3828038775791\n",
      "True\n"
     ]
    },
    {
     "data": {
      "text/plain": [
       "array([False, False, False, False, False, False, False, False, False,\n",
       "       False, False, False, False, False, False, False, False, False,\n",
       "       False, False, False, False, False, False, False, False, False,\n",
       "       False, False, False, False, False, False, False, False, False,\n",
       "       False, False, False, False, False, False, False, False, False,\n",
       "       False, False, False, False, False, False, False, False, False,\n",
       "       False, False, False, False, False, False, False, False, False,\n",
       "       False, False, False, False, False, False, False, False, False,\n",
       "       False, False, False, False, False, False, False, False, False,\n",
       "       False, False, False, False, False, False, False, False, False,\n",
       "       False, False, False, False, False, False, False, False, False,\n",
       "       False, False, False, False, False, False, False, False, False,\n",
       "       False, False, False, False, False, False, False, False, False,\n",
       "       False, False, False, False, False, False, False, False, False,\n",
       "       False, False, False, False, False, False, False, False, False,\n",
       "       False, False, False, False, False, False, False, False, False,\n",
       "       False, False, False, False, False, False, False, False, False,\n",
       "       False, False, False, False, False, False, False, False, False,\n",
       "       False, False, False, False, False, False, False, False, False,\n",
       "       False, False, False, False, False, False, False, False, False,\n",
       "       False, False, False, False, False, False, False, False, False,\n",
       "       False, False, False, False, False, False, False, False, False,\n",
       "       False, False, False, False, False, False, False, False, False,\n",
       "       False, False, False, False, False, False, False, False, False,\n",
       "       False, False, False, False, False, False, False, False, False,\n",
       "       False, False, False, False, False, False, False, False, False,\n",
       "       False, False, False, False, False, False, False, False, False,\n",
       "       False, False, False, False, False, False, False, False, False,\n",
       "       False, False, False, False, False, False, False, False, False,\n",
       "       False, False, False, False, False, False, False, False, False,\n",
       "       False, False, False, False, False, False, False, False, False,\n",
       "       False, False, False, False, False, False, False, False, False,\n",
       "       False, False, False, False, False, False, False, False, False,\n",
       "       False, False, False, False, False, False, False, False, False,\n",
       "       False, False, False, False, False, False, False, False, False,\n",
       "       False, False, False, False, False, False, False, False, False,\n",
       "       False, False, False, False, False, False, False, False, False,\n",
       "       False, False, False, False, False, False, False, False, False,\n",
       "       False, False, False, False, False, False, False, False, False,\n",
       "       False, False, False, False, False, False, False, False, False,\n",
       "       False, False, False, False, False, False, False, False, False,\n",
       "       False, False, False, False, False, False, False, False, False,\n",
       "       False, False, False, False, False, False, False, False, False,\n",
       "       False, False, False, False, False, False, False, False, False,\n",
       "       False, False, False, False, False, False, False, False, False,\n",
       "       False, False, False, False, False, False, False, False, False,\n",
       "       False, False, False, False, False, False, False, False, False,\n",
       "       False, False, False, False, False, False, False, False, False,\n",
       "       False, False, False, False, False, False, False, False, False,\n",
       "       False, False, False, False, False, False, False, False, False,\n",
       "       False, False, False, False, False, False, False, False, False,\n",
       "       False, False, False, False, False, False, False, False, False,\n",
       "       False, False, False, False, False, False, False, False, False,\n",
       "       False, False, False, False, False, False, False, False, False,\n",
       "       False, False, False, False, False, False, False, False, False,\n",
       "       False, False, False, False, False])"
      ]
     },
     "execution_count": 129,
     "metadata": {},
     "output_type": "execute_result"
    }
   ],
   "source": [
    "arr1 = np.arange(100)\n",
    "arr2 = np.random.randint(0,10, 100)\n",
    "\n",
    "# Addition \n",
    "sum = arr1 + arr2\n",
    "\n",
    "\n",
    "# Subtraction\n",
    "sub = arr1 - arr2\n",
    "\n",
    "\n",
    "# Multiplication\n",
    "mul = arr1 * arr2\n",
    "\n",
    "\n",
    "# Finding sqrt \n",
    "sqr_rt = np.sqrt(arr)\n",
    "\n",
    "\n",
    "# Calculation of exponential\n",
    "exp = np.sqrt(arr)\n",
    "\n",
    "\n",
    "# calculate mean\n",
    "mean = np.mean(arr)\n",
    "\n",
    "# Calculate max\n",
    "mode = np.max(arr)\n",
    "\n",
    "# calculate sin value \n",
    "sin = np.sin(arr)\n",
    "\n",
    "# Calculation of cos value\n",
    "cos = np.cos(arr)\n",
    "\n",
    "# calculate log\n",
    "log = np.log(arr)\n",
    "\n",
    "# sorting and array\n",
    "arr.sort()\n",
    "\n",
    "# Standard deviation\n",
    "std_dev = np.std(arr)\n",
    "print(\"standard dev is\", std_dev)\n",
    "\n",
    "# multiply two arrays\n",
    "arr2 = np.random.randint(0, 500, 500)\n",
    "arr3 = arr2 * arr\n",
    "arr4 = np.multiply(arr2, arr)\n",
    "\n",
    "# Comparing two arrays.\n",
    "if arr3.all() == arr4.all():\n",
    "    print(True)\n",
    "\n",
    "\n",
    "# Calculation of dot product of two arr\n",
    "np.dot(arr2, arr)\n",
    "\n",
    "# Comparision of two arrys\n",
    "# Compare each element and return array of boolean \n",
    "arr3 == arr4\n",
    "np.array_equal(arr3, arr4)\n",
    "\n",
    "# lt and gt comparision\n",
    "# Elementwise comparision is done.\n",
    "arr3 < arr4\n",
    "\n",
    "# appending array\n",
    "arr = np.array([21, 22, 23, 24, 25])\n",
    "arr = np.append([16,17,18,19,20], arr)\n"
   ]
  },
  {
   "cell_type": "markdown",
   "metadata": {},
   "source": [
    "## Numpy indexing and selection\n",
    "- use square bracket `[]` to select an elements from numpy array\n",
    "- Numpy arrays has an ability to broadcasting\n"
   ]
  },
  {
   "cell_type": "code",
   "execution_count": 148,
   "metadata": {},
   "outputs": [
    {
     "name": "stdout",
     "output_type": "stream",
     "text": [
      "[999 999 999 999 999 999 999 999 999 999 999 999 999 999 999 999 999 999\n",
      " 999  20  21  22  23  24  25]\n",
      "[  1   1   1   1   1 999 999 999 999 999 999 999 999 999 999 999 999 999\n",
      " 999  20  21  22  23  24  25]\n"
     ]
    }
   ],
   "source": [
    "arr = np.arange(1,26)\n",
    "# Selection of elements\n",
    "arr[0]\n",
    "arr[1:5]\n",
    "arr[24]\n",
    "\n",
    "# Assigning values to multiple index at a time aka `broadcasting`\n",
    "arr[0:19] = 999\n",
    "print(arr)\n",
    "\n",
    "# Array slicing\n",
    "slice_arr = arr[0:10]\n",
    "\n",
    "#change the slice of array \n",
    "# On changing the slice of array change the original array as well.\n",
    "# This is good as data is not copied, slice of an array is the view of the original array \n",
    "# This requires to avoids the memory problems!\n",
    "\n",
    "slice_arr[0:5] = 1\n",
    "print(arr)\n",
    "\n",
    "# To manipulate the array copy the array\n",
    "arr_copy = arr.copy()\n"
   ]
  },
  {
   "cell_type": "markdown",
   "metadata": {},
   "source": [
    "## Numpy Exercise"
   ]
  },
  {
   "cell_type": "markdown",
   "metadata": {},
   "source": [
    "#### Import numpy as np"
   ]
  },
  {
   "cell_type": "code",
   "execution_count": 161,
   "metadata": {},
   "outputs": [],
   "source": [
    "import numpy as np"
   ]
  },
  {
   "cell_type": "markdown",
   "metadata": {},
   "source": [
    "#### Create an array of 10 zeros. "
   ]
  },
  {
   "cell_type": "code",
   "execution_count": 160,
   "metadata": {},
   "outputs": [
    {
     "data": {
      "text/plain": [
       "array([0., 0., 0., 0., 0., 0., 0., 0., 0., 0.])"
      ]
     },
     "execution_count": 160,
     "metadata": {},
     "output_type": "execute_result"
    }
   ],
   "source": [
    "np.zeros(10)"
   ]
  },
  {
   "cell_type": "markdown",
   "metadata": {},
   "source": [
    "#### Create an array of 10 ones"
   ]
  },
  {
   "cell_type": "code",
   "execution_count": 158,
   "metadata": {},
   "outputs": [
    {
     "data": {
      "text/plain": [
       "array([1., 1., 1., 1., 1., 1., 1., 1., 1., 1.])"
      ]
     },
     "execution_count": 158,
     "metadata": {},
     "output_type": "execute_result"
    }
   ],
   "source": [
    "np.ones(10)"
   ]
  },
  {
   "cell_type": "markdown",
   "metadata": {},
   "source": [
    "#### Create an array of the integers from 10 to 50"
   ]
  },
  {
   "cell_type": "code",
   "execution_count": 156,
   "metadata": {},
   "outputs": [
    {
     "data": {
      "text/plain": [
       "array([10, 11, 12, 13, 14, 15, 16, 17, 18, 19, 20, 21, 22, 23, 24, 25, 26,\n",
       "       27, 28, 29, 30, 31, 32, 33, 34, 35, 36, 37, 38, 39, 40, 41, 42, 43,\n",
       "       44, 45, 46, 47, 48, 49, 50])"
      ]
     },
     "execution_count": 156,
     "metadata": {},
     "output_type": "execute_result"
    }
   ],
   "source": [
    "np.arange(10, 51)"
   ]
  },
  {
   "cell_type": "markdown",
   "metadata": {},
   "source": [
    "#### Create an array of all the even integers from 10 to 50"
   ]
  },
  {
   "cell_type": "code",
   "execution_count": 155,
   "metadata": {},
   "outputs": [
    {
     "data": {
      "text/plain": [
       "array([10, 12, 14, 16, 18, 20, 22, 24, 26, 28, 30, 32, 34, 36, 38, 40, 42,\n",
       "       44, 46, 48, 50])"
      ]
     },
     "execution_count": 155,
     "metadata": {},
     "output_type": "execute_result"
    }
   ],
   "source": [
    "np.arange(10, 52, 2)"
   ]
  },
  {
   "cell_type": "markdown",
   "metadata": {},
   "source": [
    "### Create a 3 X 3 matrix with values ranging from 0 to 20"
   ]
  },
  {
   "cell_type": "code",
   "execution_count": 166,
   "metadata": {},
   "outputs": [
    {
     "data": {
      "text/plain": [
       "array([[ 1, 17, 13],\n",
       "       [11,  7, 18],\n",
       "       [14, 16,  1]])"
      ]
     },
     "execution_count": 166,
     "metadata": {},
     "output_type": "execute_result"
    }
   ],
   "source": [
    "np.random.randint(0, 20, 9).reshape(3,3)"
   ]
  },
  {
   "cell_type": "markdown",
   "metadata": {},
   "source": [
    "### Create 3 X 3 identity matrix\n"
   ]
  },
  {
   "cell_type": "code",
   "execution_count": 167,
   "metadata": {},
   "outputs": [
    {
     "data": {
      "text/plain": [
       "array([[1., 0., 0.],\n",
       "       [0., 1., 0.],\n",
       "       [0., 0., 1.]])"
      ]
     },
     "execution_count": 167,
     "metadata": {},
     "output_type": "execute_result"
    }
   ],
   "source": [
    "np.eye(3)"
   ]
  },
  {
   "cell_type": "markdown",
   "metadata": {},
   "source": [
    "### Use numpy to generate a random number between 0 and 1\n"
   ]
  },
  {
   "cell_type": "code",
   "execution_count": 168,
   "metadata": {},
   "outputs": [
    {
     "data": {
      "text/plain": [
       "0.7126984977831261"
      ]
     },
     "execution_count": 168,
     "metadata": {},
     "output_type": "execute_result"
    }
   ],
   "source": [
    "np.random.rand()"
   ]
  },
  {
   "cell_type": "markdown",
   "metadata": {},
   "source": [
    "#### Use NumPy to generate an array of 25 random numbers sampled from a standard normal distribution"
   ]
  },
  {
   "cell_type": "code",
   "execution_count": 170,
   "metadata": {},
   "outputs": [
    {
     "data": {
      "text/plain": [
       "array([ 1.29241618, -0.16119054,  0.05367009, -1.11872224,  0.06281095,\n",
       "        1.00165401, -0.90274501, -0.01686802,  0.61329133, -0.17632711,\n",
       "        1.27119542, -0.24099449,  2.1873437 ,  0.88104516, -2.99530833,\n",
       "       -0.37104235,  0.35272918,  0.60948844, -2.36281702, -1.52733615,\n",
       "       -1.0820774 , -1.27162398,  1.20918164,  1.93830109,  0.4941529 ,\n",
       "        0.20746453])"
      ]
     },
     "execution_count": 170,
     "metadata": {},
     "output_type": "execute_result"
    }
   ],
   "source": [
    "# randn is used for standard normal distribution\n",
    "np.random.randn(26)"
   ]
  },
  {
   "cell_type": "code",
   "execution_count": null,
   "metadata": {},
   "outputs": [],
   "source": [
    "### Create the following matrix"
   ]
  },
  {
   "cell_type": "code",
   "execution_count": 175,
   "metadata": {},
   "outputs": [
    {
     "data": {
      "text/plain": [
       "array([0.01, 0.02, 0.03, 0.04, 0.05, 0.06, 0.07, 0.08, 0.09, 0.1 , 0.11,\n",
       "       0.12, 0.13, 0.14, 0.15, 0.16, 0.17, 0.18, 0.19, 0.2 , 0.21, 0.22,\n",
       "       0.23, 0.24, 0.25, 0.26, 0.27, 0.28, 0.29, 0.3 , 0.31, 0.32, 0.33,\n",
       "       0.34, 0.35, 0.36, 0.37, 0.38, 0.39, 0.4 , 0.41, 0.42, 0.43, 0.44,\n",
       "       0.45, 0.46, 0.47, 0.48, 0.49, 0.5 , 0.51, 0.52, 0.53, 0.54, 0.55,\n",
       "       0.56, 0.57, 0.58, 0.59, 0.6 , 0.61, 0.62, 0.63, 0.64, 0.65, 0.66,\n",
       "       0.67, 0.68, 0.69, 0.7 , 0.71, 0.72, 0.73, 0.74, 0.75, 0.76, 0.77,\n",
       "       0.78, 0.79, 0.8 , 0.81, 0.82, 0.83, 0.84, 0.85, 0.86, 0.87, 0.88,\n",
       "       0.89, 0.9 , 0.91, 0.92, 0.93, 0.94, 0.95, 0.96, 0.97, 0.98, 0.99,\n",
       "       1.  ])"
      ]
     },
     "execution_count": 175,
     "metadata": {},
     "output_type": "execute_result"
    }
   ],
   "source": [
    "# Ans: np.linspace(0.01, 1, 100)"
   ]
  },
  {
   "cell_type": "markdown",
   "metadata": {},
   "source": [
    "#### Create an array of 20 linearly spaced points between 0 and 1:"
   ]
  },
  {
   "cell_type": "code",
   "execution_count": 176,
   "metadata": {
    "scrolled": true
   },
   "outputs": [
    {
     "data": {
      "text/plain": [
       "array([0.        , 0.05263158, 0.10526316, 0.15789474, 0.21052632,\n",
       "       0.26315789, 0.31578947, 0.36842105, 0.42105263, 0.47368421,\n",
       "       0.52631579, 0.57894737, 0.63157895, 0.68421053, 0.73684211,\n",
       "       0.78947368, 0.84210526, 0.89473684, 0.94736842, 1.        ])"
      ]
     },
     "execution_count": 176,
     "metadata": {},
     "output_type": "execute_result"
    }
   ],
   "source": [
    "np.linspace(0, 1, 20)"
   ]
  },
  {
   "cell_type": "markdown",
   "metadata": {},
   "source": [
    "#### With the given matrix answer the following."
   ]
  },
  {
   "cell_type": "code",
   "execution_count": 179,
   "metadata": {},
   "outputs": [
    {
     "name": "stdout",
     "output_type": "stream",
     "text": [
      "[[ 1  2  3  4  5]\n",
      " [ 6  7  8  9 10]\n",
      " [11 12 13 14 15]\n",
      " [16 17 18 19 20]\n",
      " [21 22 23 24 25]]\n"
     ]
    }
   ],
   "source": [
    "matrix = np.arange(1, 26).reshape(5,5)\n",
    "print(matrix)"
   ]
  },
  {
   "cell_type": "markdown",
   "metadata": {},
   "source": [
    "#### write a numpy code to  create a matrix to produce the following output\n",
    "```\n",
    "array([[12, 13, 14, 15],\n",
    "       [17, 18, 19, 20],\n",
    "       [22, 23, 24, 25]])\n",
    "```"
   ]
  },
  {
   "cell_type": "code",
   "execution_count": 186,
   "metadata": {
    "scrolled": true
   },
   "outputs": [
    {
     "data": {
      "text/plain": [
       "array([[12, 13, 14, 15],\n",
       "       [17, 18, 19, 20],\n",
       "       [22, 23, 24, 25]])"
      ]
     },
     "execution_count": 186,
     "metadata": {},
     "output_type": "execute_result"
    }
   ],
   "source": [
    "matrix[2:, 1:] # 2: skip 0, 1 and 2 row and of each row it select element after 1: \n",
    "matrix[]"
   ]
  },
  {
   "cell_type": "markdown",
   "metadata": {},
   "source": [
    "### Write a program to produce\n",
    "\n",
    "```python\n",
    "array([[ 2],\n",
    "       [ 7],\n",
    "       [12]])\n",
    "```\n",
    "       "
   ]
  },
  {
   "cell_type": "code",
   "execution_count": 219,
   "metadata": {},
   "outputs": [
    {
     "data": {
      "text/plain": [
       "array([[ 2],\n",
       "       [ 7],\n",
       "       [12]])"
      ]
     },
     "execution_count": 219,
     "metadata": {},
     "output_type": "execute_result"
    }
   ],
   "source": [
    "matrix[:3, 1:2]"
   ]
  },
  {
   "cell_type": "markdown",
   "metadata": {},
   "source": [
    "### Produce the following array from given matrix\n",
    "\n",
    "\n",
    "```python\n",
    "array([[16, 17, 18, 19, 20],\n",
    "       [21, 22, 23, 24, 25]])\n",
    "```"
   ]
  },
  {
   "cell_type": "code",
   "execution_count": 246,
   "metadata": {
    "scrolled": true
   },
   "outputs": [
    {
     "data": {
      "text/plain": [
       "array([[16, 17, 18, 19, 20],\n",
       "       [21, 22, 23, 24, 25]])"
      ]
     },
     "execution_count": 246,
     "metadata": {},
     "output_type": "execute_result"
    }
   ],
   "source": [
    "matrix[3:5]\n",
    "\n"
   ]
  },
  {
   "cell_type": "markdown",
   "metadata": {},
   "source": [
    "#### Get the sum of values in matrix\n"
   ]
  },
  {
   "cell_type": "code",
   "execution_count": 231,
   "metadata": {},
   "outputs": [
    {
     "data": {
      "text/plain": [
       "325"
      ]
     },
     "execution_count": 231,
     "metadata": {},
     "output_type": "execute_result"
    }
   ],
   "source": [
    "# Flatten the matrix\n",
    "matrix.ravel()\n",
    "\n",
    "# get the sum of flatten matrix\n",
    "matrix.ravel().sum()\n",
    "\n",
    "# Or you can do directly \n",
    "matrix.sum()\n"
   ]
  },
  {
   "cell_type": "markdown",
   "metadata": {},
   "source": [
    "#### Compute the std deviation of a matrix"
   ]
  },
  {
   "cell_type": "code",
   "execution_count": 230,
   "metadata": {},
   "outputs": [
    {
     "data": {
      "text/plain": [
       "7.211102550927978"
      ]
     },
     "execution_count": 230,
     "metadata": {},
     "output_type": "execute_result"
    }
   ],
   "source": [
    "\n",
    "np.std(matrix)"
   ]
  },
  {
   "cell_type": "markdown",
   "metadata": {},
   "source": [
    "#### Sum of all columns in matrix"
   ]
  },
  {
   "cell_type": "code",
   "execution_count": 243,
   "metadata": {},
   "outputs": [
    {
     "data": {
      "text/plain": [
       "array([ 15,  40,  65,  90, 115])"
      ]
     },
     "execution_count": 243,
     "metadata": {},
     "output_type": "execute_result"
    }
   ],
   "source": [
    "# axis=0 indicate for row(vertical index)\n",
    "# axis=1 indicate for column(horizontal index)\n",
    "matrix.sum(axis=1)"
   ]
  }
 ],
 "metadata": {
  "kernelspec": {
   "display_name": "Python 3",
   "language": "python",
   "name": "python3"
  },
  "language_info": {
   "codemirror_mode": {
    "name": "ipython",
    "version": 3
   },
   "file_extension": ".py",
   "mimetype": "text/x-python",
   "name": "python",
   "nbconvert_exporter": "python",
   "pygments_lexer": "ipython3",
   "version": "3.7.3"
  }
 },
 "nbformat": 4,
 "nbformat_minor": 2
}
