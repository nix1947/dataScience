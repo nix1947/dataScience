{
 "cells": [
  {
   "cell_type": "markdown",
   "metadata": {},
   "source": [
    "# Python Crash Course\n",
    "\n",
    "Simple overview of Python or programming in general, if you have no programming experience.\n",
    "\n",
    "https://inria.github.io/scikit-learn-mooc/index.html\n",
    "https://www.fun-mooc.fr/en/courses/machine-learning-python-scikit-learn/\n",
    "https://www.kaggle.com/discussions/getting-started/78118\n",
    "\n",
    "\n",
    "**This notebook is just a code reference for the videos, no written explanations here**\n",
    "\n",
    "This notebook will just go through the basic topics in order:\n",
    "\n",
    "* Introduction\n",
    "* Python as calculator\n",
    "* Python User input\n",
    "* Data types\n",
    "    * Numbers\n",
    "    * Strings\n",
    "    * Printing\n",
    "    * Lists\n",
    "    * Dictionaries\n",
    "    * Booleans\n",
    "    * Tuples \n",
    "    * Sets\n",
    "* Comparison Operators\n",
    "* if,elif, else Statements\n",
    "* for Loops\n",
    "* while Loops\n",
    "* range()\n",
    "* list comprehension\n",
    "* functions\n",
    "* Interating over Input / Output\n",
    "* lambda expressions\n",
    "* map and filter\n",
    "* methods\n",
    "* Python OOps Concept\n",
    "* Python Dates and Times\n",
    "* Python Standard modules\n",
    "* Python Exception Handling\n",
    "* Handling CSV files in python\n",
    "* Handling Json files in python\n",
    "\n",
    "\n",
    "\n",
    "•\tPython OOPs Concepts\n",
    "•\tPython demonstration : Reading and writing CSV files with Exception handling\n",
    "•\tPython Dates and Times\n",
    "•\tAdvance Python Objects, map()\n",
    "\n",
    "____"
   ]
  },
  {
   "cell_type": "markdown",
   "metadata": {},
   "source": [
    "## Introduction\n",
    "\n",
    "- Python an interpreted (as opposed to compiled) language. \n",
    "- Contrary to e.g. C or Fortran, one does not compile Python code before executing it.\n",
    "- Python can be used interactively: many Python interpreters are available, from which commands and scripts can be executed.\n",
    "- A free software released under an open-source license: Python can be used and distributed free of charge, even for building commercial software.\n",
    "- multi-platform: Python is available for all major operating systems, Windows, Linux/Unix, MacOS X, most likely your mobile phone OS, etc.\n",
    "- A very readable language with clear non-verbose syntax\n",
    "- A language for which a large variety of high-quality packages are available for various applications, from web frameworks to scientific computing.\n",
    "- A language very easy to interface with other languages, in particular C and C++.\n",
    "- Some other features of the language are illustrated just below. For example, Python is an object-oriented language, with dynamic typing (the same variable can contain objects of different types during the course of a program).\n"
   ]
  },
  {
   "cell_type": "markdown",
   "metadata": {},
   "source": [
    "## Python as calculator\n",
    "- Launch python shell or ipython shell to use python intrepreter as a calculator\n"
   ]
  },
  {
   "cell_type": "code",
   "execution_count": 21,
   "metadata": {
    "scrolled": true
   },
   "outputs": [
    {
     "name": "stdout",
     "output_type": "stream",
     "text": [
      "Multiplication 8\n",
      "Division 0.5\n",
      "Modulo 2\n",
      "subtraction -2\n",
      "addition 6\n",
      "Float Division 0.5\n",
      "Integer Division 0\n"
     ]
    }
   ],
   "source": [
    "num1 = 2 \n",
    "num2 = 4 \n",
    "\n",
    "multiply = num1 * num2 \n",
    "divide = num1 / num2 \n",
    "modulo = num1 % num2 \n",
    "power = num1 ** num2 \n",
    "subtraction = num1 - num2\n",
    "addition = num1 + num2 \n",
    "float_division = num1 / float(num2)\n",
    "integer_division = num1 // num2\n",
    "\n",
    "\n",
    "print(\"Multiplication\", multiply)\n",
    "print(\"Division\", divide)\n",
    "print(\"Modulo\", modulo)\n",
    "print(\"subtraction\", subtraction)\n",
    "print(\"addition\", addition)\n",
    "print(\"Float Division\", float_division)\n",
    "print(\"Integer Division\", integer_division)"
   ]
  },
  {
   "cell_type": "markdown",
   "metadata": {},
   "source": [
    "## Python user input\n",
    "-  Python allows you to provide the input data to your program\n",
    "- Use the input() method to ask for the input in python program\n"
   ]
  },
  {
   "cell_type": "code",
   "execution_count": 58,
   "metadata": {},
   "outputs": [
    {
     "name": "stdout",
     "output_type": "stream",
     "text": [
      "Enter your namemanoj\n",
      "Hello manoj\n"
     ]
    }
   ],
   "source": [
    "your_name = input(\"Enter your name\")\n",
    "print(\"Hello \" + your_name)"
   ]
  },
  {
   "cell_type": "markdown",
   "metadata": {},
   "source": [
    "## Data types\n",
    "\n",
    "### Numbers\n",
    "Python supports the following numerical, scalar types:\n",
    " * Integer\n",
    " * Float\n",
    " * Complex \n",
    " * Boolean"
   ]
  },
  {
   "cell_type": "markdown",
   "metadata": {},
   "source": [
    "#### Integer\n"
   ]
  },
  {
   "cell_type": "code",
   "execution_count": 22,
   "metadata": {
    "scrolled": false
   },
   "outputs": [
    {
     "name": "stdout",
     "output_type": "stream",
     "text": [
      "6\n",
      "8\n",
      "2\n",
      "-2\n",
      "260\n"
     ]
    }
   ],
   "source": [
    "a = 1 + 1\n",
    "b = 4 \n",
    "\n",
    "print(a + b)\n",
    "print(a * b)\n",
    "print(-a % b)\n",
    "print(a % -b)\n",
    "print(a ** a + b **b)\n"
   ]
  },
  {
   "cell_type": "markdown",
   "metadata": {},
   "source": [
    "#### Floats"
   ]
  },
  {
   "cell_type": "code",
   "execution_count": 5,
   "metadata": {},
   "outputs": [
    {
     "data": {
      "text/plain": [
       "float"
      ]
     },
     "execution_count": 5,
     "metadata": {},
     "output_type": "execute_result"
    }
   ],
   "source": [
    "c = 2.1\n",
    "type(c)"
   ]
  },
  {
   "cell_type": "markdown",
   "metadata": {},
   "source": [
    "#### Complex"
   ]
  },
  {
   "cell_type": "code",
   "execution_count": 10,
   "metadata": {
    "scrolled": false
   },
   "outputs": [
    {
     "name": "stdout",
     "output_type": "stream",
     "text": [
      "1.5\n",
      "0.5\n"
     ]
    }
   ],
   "source": [
    "complex_num = 1.5 + 0.5j\n",
    "\n",
    "print(complex_num.real)\n",
    "print(complex_num.imag)\n",
    "\n"
   ]
  },
  {
   "cell_type": "markdown",
   "metadata": {},
   "source": [
    "### Boolean"
   ]
  },
  {
   "cell_type": "code",
   "execution_count": 14,
   "metadata": {
    "scrolled": true
   },
   "outputs": [
    {
     "name": "stdout",
     "output_type": "stream",
     "text": [
      "False\n",
      "True\n"
     ]
    }
   ],
   "source": [
    "is_greater = 3 > 4 \n",
    "print(is_greater)\n",
    "\n",
    "is_landlocked = True\n",
    "\n",
    "print(is_landlocked)"
   ]
  },
  {
   "cell_type": "markdown",
   "metadata": {},
   "source": [
    "### Variable Assignment\n",
    "- Variable is a memory location which store the value \n",
    "- Variable can given a name known as  `identifier`\n",
    "- Value of a variable is known as `literal`\n",
    "- Use identifier to do variable assignment"
   ]
  },
  {
   "cell_type": "code",
   "execution_count": 25,
   "metadata": {},
   "outputs": [
    {
     "name": "stdout",
     "output_type": "stream",
     "text": [
      "manoj gautam is associated with viatAcademy\n"
     ]
    }
   ],
   "source": [
    "# Can not start with number or special characters\n",
    "name_of_var = 2\n",
    "\n",
    "# Using a variable to represent an Employee of an organization \n",
    "first_name = \"manoj\"\n",
    "last_name = \"gautam\"\n",
    "age = None\n",
    "height = 6.5\n",
    "is_manager = True\n",
    "company_name = \"viatAcademy\"\n",
    "\n",
    "print(\"{} {} is associated with {}\".format(first_name, last_name, company_name))"
   ]
  },
  {
   "cell_type": "markdown",
   "metadata": {},
   "source": [
    "### Strings\n",
    "- Different string syntaxes (simple, double or triple quotes)\n",
    "- A string is an immutable object and it is not possible to modify its contents. One may however create new strings from the original one.\n",
    "-  Strings have many useful methods, such as a.replace as seen above. Remember the a. object-oriented notation and use tab completion or help(str) to search for new methods.\n",
    "\n"
   ]
  },
  {
   "cell_type": "code",
   "execution_count": 4,
   "metadata": {},
   "outputs": [
    {
     "name": "stdout",
     "output_type": "stream",
     "text": [
      "single quotes\n",
      "An integer: 1; a float: 0.100000; another string: string\n",
      "processing_of_dataset_102.txt\n",
      "hezzo, worzd!\n"
     ]
    }
   ],
   "source": [
    "\n",
    "single_quote_string = 'single quotes'\n",
    "print(single_quote_string)\n",
    "\n",
    "s = 'Hello, how are you?'\n",
    "s = \"Hi, what's up\"\n",
    "s = '''Hello,\n",
    "       how are you'''         # tripling the quotes allows the\n",
    "                              # string to span more than one line\n",
    "s = \"\"\"Hi,\n",
    "what's up?\"\"\"\n",
    "\n",
    "# String formatting\n",
    "print('An integer: %i; a float: %f; another string: %s' % (1, 0.1, 'string')) # with more values use tuple after %\n",
    "\n",
    "\n",
    "i = 102\n",
    "filename = 'processing_of_dataset_%d.txt' % i   # no need for tuples with just one value after %\n",
    "print(filename)\n",
    "\n",
    "# Slicing in string\n",
    "a = \"hello, world!\"\n",
    "\n",
    "a[3:6] # 3rd to 6th (excluded) elements: elements 3, 4, 5\n",
    "\n",
    "a[2:10:2] # Syntax: a[start:stop:step]\n",
    "\n",
    "a[::3] # every three characters, from beginning to end\n",
    "\n",
    "# Replacing elements in string\n",
    "replaced_chr = a.replace('l', 'z')\n",
    "print(replaced_chr)\n",
    "\n"
   ]
  },
  {
   "cell_type": "code",
   "execution_count": 18,
   "metadata": {},
   "outputs": [
    {
     "data": {
      "text/plain": [
       "'double quotes'"
      ]
     },
     "execution_count": 18,
     "metadata": {},
     "output_type": "execute_result"
    }
   ],
   "source": [
    "\"double quotes\""
   ]
  },
  {
   "cell_type": "code",
   "execution_count": 19,
   "metadata": {},
   "outputs": [
    {
     "data": {
      "text/plain": [
       "\" wrap lot's of other quotes\""
      ]
     },
     "execution_count": 19,
     "metadata": {},
     "output_type": "execute_result"
    }
   ],
   "source": [
    "\" wrap lot's of other quotes\""
   ]
  },
  {
   "cell_type": "code",
   "execution_count": 27,
   "metadata": {},
   "outputs": [
    {
     "data": {
      "text/plain": [
       "'\\nI am doc string and I can span up to multiple\\nparagraphs\\n\\n'"
      ]
     },
     "execution_count": 27,
     "metadata": {},
     "output_type": "execute_result"
    }
   ],
   "source": [
    "\"\"\"\n",
    "I am doc string and I can span up to multiple\n",
    "paragraphs\n",
    "\n",
    "\"\"\""
   ]
  },
  {
   "cell_type": "markdown",
   "metadata": {},
   "source": [
    "### Printing"
   ]
  },
  {
   "cell_type": "code",
   "execution_count": 31,
   "metadata": {},
   "outputs": [
    {
     "data": {
      "text/plain": [
       "'hello'"
      ]
     },
     "execution_count": 31,
     "metadata": {},
     "output_type": "execute_result"
    }
   ],
   "source": [
    "greeting = 'hello'\n",
    "greeting"
   ]
  },
  {
   "cell_type": "code",
   "execution_count": 32,
   "metadata": {},
   "outputs": [
    {
     "name": "stdout",
     "output_type": "stream",
     "text": [
      "hello\n"
     ]
    }
   ],
   "source": [
    "print(greeting)"
   ]
  },
  {
   "cell_type": "code",
   "execution_count": 24,
   "metadata": {},
   "outputs": [
    {
     "name": "stdout",
     "output_type": "stream",
     "text": [
      "My number is: 12, and my name is: Sam\n"
     ]
    }
   ],
   "source": [
    "print('My number is: {one}, and my name is: {two}'.format(one=num,two=name))"
   ]
  },
  {
   "cell_type": "code",
   "execution_count": 25,
   "metadata": {},
   "outputs": [
    {
     "name": "stdout",
     "output_type": "stream",
     "text": [
      "My number is: 12, and my name is: Sam\n"
     ]
    }
   ],
   "source": [
    "print('My number is: {}, and my name is: {}'.format(num,name))"
   ]
  },
  {
   "cell_type": "markdown",
   "metadata": {},
   "source": [
    "### Lists\n",
    "- A list is an ordered collection of objects, that may have different types. For example:\n",
    "- `Indexing:` accessing individual objects contained in the list\n",
    "- Use `Negativeslice [-1], [-2]` to count from the end with negative indices:\n",
    "-  Indexing starts at 0 \n",
    "- Indexing starts at 0 (as in C), not at 1 (as in Fortran or Matlab)!\n",
    "- Slicing: obtaining sublists of regularly-spaced elements:\n",
    "- Lists are `mutable` objects and can be modified:"
   ]
  },
  {
   "cell_type": "code",
   "execution_count": 99,
   "metadata": {
    "collapsed": true
   },
   "outputs": [],
   "source": [
    "# Simple List example\n",
    "colors = ['red', 'blue', 'green', 'black', 'white']\n",
    "type(colors)     \n",
    "\n",
    "# Accessing individual elements in list\n",
    "colors[3]\n",
    "\n",
    "# Counting from the end with negative indices:\n",
    "colors[-1]\n",
    "colors[-2]\n",
    "\n",
    "# Slicing list\n",
    "colors[2:4]\n",
    "\n",
    "# List are mutable and can be modified.\n",
    "colors[0] = 'yellow'\n",
    "colors\n",
    "\n",
    "colors[2:4] = ['gray', 'purple']\n",
    "colors\n",
    "\n",
    "# Elements of the list can have different types.\n",
    "colors = [3, -200, 'hello']\n",
    "colors\n",
    "\n",
    "# Accessing items from a list.\n",
    "colors[1], colors[2]\n",
    "\n",
    "# Adding elements in a list. \n",
    "colors = ['red', 'blue', 'green', 'black', 'white']\n",
    "colors.append('pink')\n",
    "colors\n",
    "\n",
    "# Removing last item from list \n",
    "colors.pop() \n",
    "\n",
    "\n",
    "# Extending a list.\n",
    "colors.extend(['pink', 'purple']) # extend colors, in-place\n",
    "colors\n",
    "colors = colors[:-2]\n",
    "\n",
    "# Reversing a list. \n",
    "rcolors = colors[::-1]\n",
    "rcolors\n",
    "\n",
    "rcolors2 = list(colors) # new object that is a copy of colors in a different memory area\n",
    "rcolors2\n",
    "\n",
    "rcolors2.reverse() # in-place; reversing rcolors2 does not affect colors\n",
    "rcolors2\n",
    "\n",
    "# Concenate a list. \n",
    "rcolors + colors\n",
    "\n",
    "# Repeating a list. \n",
    "rcolors * 2\n",
    "\n",
    "# Sorting a list. \n",
    "sorted(rcolors) # new object\n",
    "rcolors\n",
    "rcolors.sort()  # in-place\n",
    "rcolors\n"
   ]
  },
  {
   "cell_type": "code",
   "execution_count": 100,
   "metadata": {},
   "outputs": [
    {
     "data": {
      "text/plain": [
       "[4, 5, ['target']]"
      ]
     },
     "execution_count": 100,
     "metadata": {},
     "output_type": "execute_result"
    }
   ],
   "source": [
    "nest[3]"
   ]
  },
  {
   "cell_type": "code",
   "execution_count": 101,
   "metadata": {},
   "outputs": [
    {
     "data": {
      "text/plain": [
       "['target']"
      ]
     },
     "execution_count": 101,
     "metadata": {},
     "output_type": "execute_result"
    }
   ],
   "source": [
    "nest[3][2]"
   ]
  },
  {
   "cell_type": "code",
   "execution_count": 102,
   "metadata": {},
   "outputs": [
    {
     "data": {
      "text/plain": [
       "'target'"
      ]
     },
     "execution_count": 102,
     "metadata": {},
     "output_type": "execute_result"
    }
   ],
   "source": [
    "nest[3][2][0]"
   ]
  },
  {
   "cell_type": "markdown",
   "metadata": {},
   "source": [
    "### Dictionaries\n",
    "-  A dictionary is basically an efficient table that maps keys to values. It is an unordered container\n",
    " "
   ]
  },
  {
   "cell_type": "code",
   "execution_count": 7,
   "metadata": {},
   "outputs": [
    {
     "name": "stdout",
     "output_type": "stream",
     "text": [
      "True\n"
     ]
    }
   ],
   "source": [
    "# Creating dictionaries using key value pairs. \n",
    "identification = {'manoj': 5752, 'satyam': 5578}\n",
    "identification['manoj'] = 5915\n",
    "identification     \n",
    "\n",
    "identification['satyam']\n",
    "\n",
    "identification.keys()   \n",
    "\n",
    "identification.values()   \n",
    "\n",
    "if 'manoj' in identification:\n",
    "    print(True)\n",
    "\n",
    "# Adding keys and values in dictionary.\n",
    "d = {'key1':'item1','key2':'item2'}"
   ]
  },
  {
   "cell_type": "markdown",
   "metadata": {},
   "source": [
    "### Booleans"
   ]
  },
  {
   "cell_type": "code",
   "execution_count": 40,
   "metadata": {},
   "outputs": [
    {
     "data": {
      "text/plain": [
       "True"
      ]
     },
     "execution_count": 40,
     "metadata": {},
     "output_type": "execute_result"
    }
   ],
   "source": [
    "True"
   ]
  },
  {
   "cell_type": "code",
   "execution_count": 41,
   "metadata": {
    "scrolled": true
   },
   "outputs": [
    {
     "data": {
      "text/plain": [
       "False"
      ]
     },
     "execution_count": 41,
     "metadata": {},
     "output_type": "execute_result"
    }
   ],
   "source": [
    "False"
   ]
  },
  {
   "cell_type": "markdown",
   "metadata": {},
   "source": [
    "### Tuples \n",
    "- Tuples are basically immutable lists. The elements of a tuple are written between parentheses, or just separated by commas:"
   ]
  },
  {
   "cell_type": "code",
   "execution_count": 42,
   "metadata": {
    "collapsed": true
   },
   "outputs": [],
   "source": [
    "# Tuple\n",
    "t = (1,2,3)\n",
    "\n",
    "# Tuples example\n",
    "t = 12345, 54321, 'hello!'\n",
    "t[0]\n",
    "\n",
    "\n",
    "u = (0, 2)"
   ]
  },
  {
   "cell_type": "code",
   "execution_count": 8,
   "metadata": {},
   "outputs": [
    {
     "ename": "NameError",
     "evalue": "name 't' is not defined",
     "output_type": "error",
     "traceback": [
      "\u001b[1;31m---------------------------------------------------------------------------\u001b[0m",
      "\u001b[1;31mNameError\u001b[0m                                 Traceback (most recent call last)",
      "\u001b[1;32m<ipython-input-8-0da3119048f7>\u001b[0m in \u001b[0;36m<module>\u001b[1;34m\u001b[0m\n\u001b[0;32m      1\u001b[0m \u001b[1;31m# Tuples items doesn't support assignments.\u001b[0m\u001b[1;33m\u001b[0m\u001b[1;33m\u001b[0m\u001b[1;33m\u001b[0m\u001b[0m\n\u001b[1;32m----> 2\u001b[1;33m \u001b[0mt\u001b[0m\u001b[1;33m[\u001b[0m\u001b[1;36m0\u001b[0m\u001b[1;33m]\u001b[0m \u001b[1;33m=\u001b[0m \u001b[1;34m'NEW'\u001b[0m\u001b[1;33m\u001b[0m\u001b[1;33m\u001b[0m\u001b[0m\n\u001b[0m",
      "\u001b[1;31mNameError\u001b[0m: name 't' is not defined"
     ]
    }
   ],
   "source": [
    "# Tuples items doesn't support assignments. \n",
    "t[0] = 'NEW'"
   ]
  },
  {
   "cell_type": "markdown",
   "metadata": {},
   "source": [
    "### Sets\n",
    "- unordered, unique items"
   ]
  },
  {
   "cell_type": "code",
   "execution_count": 9,
   "metadata": {},
   "outputs": [
    {
     "data": {
      "text/plain": [
       "{'c'}"
      ]
     },
     "execution_count": 9,
     "metadata": {},
     "output_type": "execute_result"
    }
   ],
   "source": [
    "# Declaring sets.\n",
    "my_set = {1,2,3}\n",
    "\n",
    "# Another way of declaring set.\n",
    "s = set(('a', 'b', 'c', 'a'))\n",
    "    \n",
    "# Finding difference between set.\n",
    "s.difference(('a', 'b')) "
   ]
  },
  {
   "cell_type": "code",
   "execution_count": 46,
   "metadata": {},
   "outputs": [
    {
     "data": {
      "text/plain": [
       "{1, 2, 3}"
      ]
     },
     "execution_count": 46,
     "metadata": {},
     "output_type": "execute_result"
    }
   ],
   "source": [
    "{1,2,3,1,2,1,2,3,3,3,3,2,2,2,1,1,2}"
   ]
  },
  {
   "cell_type": "markdown",
   "metadata": {},
   "source": [
    "## Comparison Operators"
   ]
  },
  {
   "cell_type": "code",
   "execution_count": 10,
   "metadata": {},
   "outputs": [
    {
     "data": {
      "text/plain": [
       "False"
      ]
     },
     "execution_count": 10,
     "metadata": {},
     "output_type": "execute_result"
    }
   ],
   "source": [
    "# Greater than\n",
    "1 > 2\n",
    "\n",
    "# Less \n",
    "1 < 2\n",
    "\n",
    "# Comparision\n",
    "1 == 1\n",
    "'hi' == 'bye'\n",
    "\n"
   ]
  },
  {
   "cell_type": "markdown",
   "metadata": {},
   "source": [
    "## Logic Operators"
   ]
  },
  {
   "cell_type": "code",
   "execution_count": 11,
   "metadata": {},
   "outputs": [
    {
     "data": {
      "text/plain": [
       "True"
      ]
     },
     "execution_count": 11,
     "metadata": {},
     "output_type": "execute_result"
    }
   ],
   "source": [
    "# Print True\n",
    "(1 > 2) and (2 < 3)\n",
    "\n",
    "# Print False\n",
    "(1 > 2) or (2 < 3)\n",
    "\n",
    "# Complex logical operator\n",
    "(1 == 2) or (2 == 3) or (4 == 4)"
   ]
  },
  {
   "cell_type": "markdown",
   "metadata": {},
   "source": [
    "## if,elif, else Statements\n"
   ]
  },
  {
   "cell_type": "code",
   "execution_count": 56,
   "metadata": {},
   "outputs": [
    {
     "name": "stdout",
     "output_type": "stream",
     "text": [
      "Yep!\n"
     ]
    }
   ],
   "source": [
    "if 1 < 2:\n",
    "    print('Yep!')\n",
    "    \n",
    "a = 10\n",
    "b = a\n",
    "\n",
    "# Test equality\n",
    "if a == 1:\n",
    "    print(1)\n",
    "elif a == 2:\n",
    "    print(2)\n",
    "else:\n",
    "    print('A lot')\n",
    "\n",
    "# Test identity\n",
    "1 is 1.\n",
    "a = 1\n",
    "b = 1\n",
    "a is b\n",
    "\n",
    "\n",
    "# `in` operator\n",
    "b = [1, 2, 3]\n",
    "2 in b\n",
    "\n",
    "5 in b"
   ]
  },
  {
   "cell_type": "code",
   "execution_count": 58,
   "metadata": {},
   "outputs": [
    {
     "name": "stdout",
     "output_type": "stream",
     "text": [
      "first\n"
     ]
    }
   ],
   "source": [
    "if 1 < 2:\n",
    "    print('first')\n",
    "else:\n",
    "    print('last')"
   ]
  },
  {
   "cell_type": "code",
   "execution_count": 59,
   "metadata": {},
   "outputs": [
    {
     "name": "stdout",
     "output_type": "stream",
     "text": [
      "last\n"
     ]
    }
   ],
   "source": [
    "if 1 > 2:\n",
    "    print('first')\n",
    "else:\n",
    "    print('last')"
   ]
  },
  {
   "cell_type": "code",
   "execution_count": 60,
   "metadata": {},
   "outputs": [
    {
     "name": "stdout",
     "output_type": "stream",
     "text": [
      "middle\n"
     ]
    }
   ],
   "source": [
    "if 1 == 2:\n",
    "    print('first')\n",
    "elif 3 == 3:\n",
    "    print('middle')\n",
    "else:\n",
    "    print('Last')"
   ]
  },
  {
   "cell_type": "markdown",
   "metadata": {},
   "source": [
    "## for Loops"
   ]
  },
  {
   "cell_type": "code",
   "execution_count": 15,
   "metadata": {},
   "outputs": [
    {
     "name": "stdout",
     "output_type": "stream",
     "text": [
      "0\n",
      "1\n",
      "2\n",
      "3\n",
      "1\n",
      "2\n",
      "3\n",
      "4\n",
      "5\n",
      "M\n",
      "a\n",
      "n\n",
      "o\n",
      "j\n",
      "Python is cool\n",
      "Python is powerful\n",
      "Python is manoj\n",
      "o\n",
      "e\n",
      "u\n",
      "Hello\n",
      "how\n",
      "are\n",
      "you?\n",
      "(0, 'cool')\n",
      "(1, 'powerful')\n",
      "(2, 'readable')\n",
      "(0, 'cool')\n",
      "(1, 'powerful')\n",
      "(2, 'readable')\n",
      "Key: a has value: 1\n",
      "Key: b has value: 1.2\n",
      "Key: c has value: 1j\n"
     ]
    },
    {
     "data": {
      "text/plain": [
       "[0, 1, 4, 9]"
      ]
     },
     "execution_count": 15,
     "metadata": {},
     "output_type": "execute_result"
    }
   ],
   "source": [
    "seq = [1,2,3,4,5]\n",
    "\n",
    "# Iterating with range function.\n",
    "for i in range(4):\n",
    "    print(i)\n",
    "\n",
    "# Iterating with sequence number.\n",
    "for item in seq:\n",
    "    print(item)\n",
    "    \n",
    "# Iterating with Strin g\n",
    "for letter in \"Manoj\":\n",
    "    print(letter)\n",
    "\n",
    "# Interating word\n",
    "for word in ('cool', 'powerful', 'manoj'):\n",
    "    print('Python is %s' % word)\n",
    "\n",
    "# Iterating over the sequences. \n",
    "vowels = 'aeiouy'\n",
    "for i in 'powerful':\n",
    "    if i in vowels:\n",
    "        print(i)\n",
    "\n",
    "# Splitting and iterating over the list. \n",
    "message = \"Hello how are you?\"\n",
    "words = ('cool', 'powerful', 'readable')\n",
    "message.split() # returns a list\n",
    "\n",
    "for word in message.split():\n",
    "    print(word)\n",
    "    \n",
    "    \n",
    "# Keeping track of numbers using enumerator.\n",
    "for index, item in enumerate(words):\n",
    "    print((index, item))\n",
    "\n",
    "# Using while loop with counter\n",
    "for i in range(0, len(words)):\n",
    "    print((i, words[i]))\n",
    "\n",
    "# Looping through dictionaries.\n",
    "d = {'a': 1, 'b':1.2, 'c':1j}\n",
    "\n",
    "for key, val in sorted(d.items()):\n",
    "    print('Key: %s has value: %s' % (key, val))\n",
    "\n"
   ]
  },
  {
   "cell_type": "markdown",
   "metadata": {},
   "source": [
    "## while Loops\n",
    "- Use `break` keyword to break the loop\n",
    "- Use `continute` statement to skip the loop."
   ]
  },
  {
   "cell_type": "code",
   "execution_count": 16,
   "metadata": {},
   "outputs": [
    {
     "name": "stdout",
     "output_type": "stream",
     "text": [
      "i is: 1\n",
      "i is: 2\n",
      "i is: 3\n",
      "i is: 4\n",
      "1.0\n",
      "0.5\n",
      "0.25\n"
     ]
    }
   ],
   "source": [
    "# Simple counting\n",
    "i = 1\n",
    "while i < 5:\n",
    "    print('i is: {}'.format(i))\n",
    "    i = i+1\n",
    "\n",
    "# Processing complex number with while loops\n",
    "z = 1 + 1j\n",
    "while abs(z) < 100:\n",
    "    z = z**2 + 1\n",
    "\n",
    "# Break while loop\n",
    "z = 1 + 1j\n",
    "\n",
    "while abs(z) < 100:\n",
    "    if z.imag == 0:\n",
    "        break\n",
    "    z = z**2 + 1\n",
    "\n",
    "# Use `continue` keyword to skip the while loop\n",
    "a = [1, 0, 2, 4]\n",
    "for element in a:\n",
    "    if element == 0:\n",
    "        continue\n",
    "    print(1 / element)"
   ]
  },
  {
   "cell_type": "markdown",
   "metadata": {},
   "source": [
    "## range()"
   ]
  },
  {
   "cell_type": "code",
   "execution_count": 66,
   "metadata": {},
   "outputs": [
    {
     "data": {
      "text/plain": [
       "range(0, 5)"
      ]
     },
     "execution_count": 66,
     "metadata": {},
     "output_type": "execute_result"
    }
   ],
   "source": [
    "# Range function\n",
    "range(5)\n",
    "\n",
    "# Using range and loop\n",
    "for i in range(5):\n",
    "    print(i)\n",
    "\n",
    "# Creating a list of item from range. \n",
    "list(range(5))"
   ]
  },
  {
   "cell_type": "markdown",
   "metadata": {},
   "source": [
    "## list comprehension"
   ]
  },
  {
   "cell_type": "code",
   "execution_count": 69,
   "metadata": {
    "collapsed": true
   },
   "outputs": [],
   "source": [
    "# Declaring a list.\n",
    "x = [1,2,3,4]\n",
    "\n",
    "# Items appending in list. \n",
    "[item**2 for item in x]\n",
    "\n",
    "# Another example of creating a list. \n",
    "[i**2 for i in range(4)]"
   ]
  },
  {
   "cell_type": "markdown",
   "metadata": {},
   "source": [
    "## functions\n",
    "- By default, functions return None\n",
    "- For definng a function following should be noated\n",
    "    - *the def keyword which is followed by the function’s name, then the arguments of the function are given between parentheses followed by a colon. the function body; and return object for optionally returning values*.\n",
    "\n",
    "- Mandatory parameters (positional arguments) are possible using `args`\n",
    "- Optional parameters (keyword or named arguments) are possible using `kwargs` \n",
    "- Keyword arguments are a very convenient feature for defining functions with a variable number of arguments, especially when default values are to be used in most calls to the function\n",
    "- If the value passed in a function is immutable, the function does not modify the caller’s variable. If the value is mutable, the function may modify the caller’s variable in-place:\n",
    "- Functions have a local variable table called a local namespace.\n",
    "- Variables declared outside the function can be referenced within the function and referred as `global` variable.\n",
    "- `*args`: any number of positional arguments packed into a tuple\n",
    "- `**kwargs`: any number of keyword arguments packed into a dictionary\n",
    "- Documentation about what the function does and its parameters and it is called as `docstrings`\n",
    "- In python functions \n",
    "    - Are first-class objects, which means they can be:\n",
    "        - assigned to a variable\n",
    "        - an item in a list (or any collection)\n",
    "        - passed as an argument to another function.\n",
    "- Methods are functions attached to objects. You’ve seen these in our the examples  on lists, dictionaries, strings, etc…\n"
   ]
  },
  {
   "cell_type": "code",
   "execution_count": 24,
   "metadata": {
    "scrolled": true
   },
   "outputs": [
    {
     "name": "stdout",
     "output_type": "stream",
     "text": [
      "1808.6399999999999\n",
      "['one', 'fish,', 'two', 'fish,', 'red', 'fish,', 'blue', 'fish']\n",
      "23\n",
      "[99, 42]\n",
      "[99]\n",
      "77\n",
      "[99, 42]\n",
      "[28]\n",
      "args is ('one', 'two')\n",
      "kwargs is {'x': 1, 'y': 2, 'z': 3}\n",
      "Concise one-line sentence describing the function.\n",
      "\n",
      "     Extended summary which can contain multiple paragraphs.\n",
      "     \n"
     ]
    }
   ],
   "source": [
    "# Simple defining a function\n",
    "def my_func(param1='default'):\n",
    "    \"\"\"\n",
    "    Docstring goes here.\n",
    "    \"\"\"\n",
    "    print(param1)\n",
    "    \n",
    "\n",
    "# Function with return statement (fruitful functions)\n",
    "def disk_area(radius):\n",
    "     return 3.14 * radius * radius\n",
    "\n",
    "print(disk_area(24))\n",
    "    \n",
    "# Function parameters default and optional.\n",
    "def slicer(seq, start=None, stop=None, step=None):\n",
    "     \"\"\"Implement basic python slicing.\"\"\"\n",
    "     return seq[start:stop:step]\n",
    "\n",
    "# Using of slice function\n",
    "rhyme = 'one fish, two fish, red fish, blue fish'.split()\n",
    "\n",
    "print(rhyme)\n",
    "\n",
    "# Do same function of split\n",
    "slicer(rhyme)\n",
    "\n",
    "# Grab element by skipping next item\n",
    "slicer(rhyme, step=2)\n",
    "\n",
    "\n",
    "slicer(rhyme, 1, step=2)\n",
    "# Out[105]: ['fish,', 'fish,', 'fish,', 'fish']\n",
    "\n",
    "slicer(rhyme, start=1, stop=4, step=2)\n",
    "# Out[106]: ['fish,', 'fish,']\n",
    "\n",
    "# Passing by value\n",
    "def try_to_modify(x, y, z):\n",
    "    x = 23\n",
    "    y.append(42)\n",
    "    z = [99] # new reference\n",
    "    print(x)\n",
    "    print(y)\n",
    "    print(z)\n",
    "\n",
    "a = 77    # immutable variable\n",
    "b = [99]  # mutable variable\n",
    "c = [28]\n",
    "try_to_modify(a, b, c)\n",
    "\n",
    "print(a)\n",
    "print(b)\n",
    "print(c)\n",
    "\n",
    "# *args, and **kwargs\n",
    "def variable_args(*args, **kwargs):\n",
    "     print('args is', args)\n",
    "     print('kwargs is', kwargs)\n",
    "    \n",
    "variable_args('one', 'two', x=1, y=2, z=3)\n",
    "\n",
    "\n",
    "# Defining a function with docstring.\n",
    "def funcname(params):\n",
    "     \"\"\"Concise one-line sentence describing the function.\n",
    "\n",
    "     Extended summary which can contain multiple paragraphs.\n",
    "     \"\"\"\n",
    "     # function body\n",
    "     pass\n",
    "\n",
    "\n",
    "print(funcname.__doc__)"
   ]
  },
  {
   "cell_type": "markdown",
   "metadata": {},
   "source": [
    "## Files reading and writing\n",
    "File opening modes\n",
    "    - Read-only: r\n",
    "    - Write-only: w\n",
    "    - Note: Create a new file or overwrite existing file.\n",
    "        - Append a file: a\n",
    "        - Read and Write: r+\n",
    "        - Binary mode: "
   ]
  },
  {
   "cell_type": "code",
   "execution_count": 28,
   "metadata": {},
   "outputs": [],
   "source": [
    "# Open a working file\n",
    "f = open('workfile.txt', 'r')\n",
    "\n",
    "# Iterating over a file \n",
    "for line in f:\n",
    "    print(line)"
   ]
  },
  {
   "cell_type": "markdown",
   "metadata": {},
   "source": [
    "## lambda expressions\n",
    "- While normal functions are defined using the def keyword in Python, anonymous functions are defined using the lambda keyword.\n",
    "- Hence, anonymous functions are also called lambda functions."
   ]
  },
  {
   "cell_type": "code",
   "execution_count": 29,
   "metadata": {},
   "outputs": [
    {
     "name": "stdout",
     "output_type": "stream",
     "text": [
      "4\n"
     ]
    }
   ],
   "source": [
    "# Normal function\n",
    "def times2(var):\n",
    "    return var*2\n",
    "\n",
    "# Lambda function\n",
    "double = lambda x: x * 2\n",
    "\n",
    "print(double(2))"
   ]
  },
  {
   "cell_type": "markdown",
   "metadata": {},
   "source": [
    "## Filters and map\n",
    "- The filter() function in Python takes in a function and a list as arguments.\n",
    "- The map() function in Python takes in a function and a list.\n"
   ]
  },
  {
   "cell_type": "code",
   "execution_count": 37,
   "metadata": {},
   "outputs": [
    {
     "name": "stdout",
     "output_type": "stream",
     "text": [
      "[4, 6, 8, 12]\n",
      "[1, 4, 9]\n"
     ]
    }
   ],
   "source": [
    "num_ist = [1, 5, 4, 6, 8, 11, 3, 12]\n",
    "\n",
    "# Filter only the even numbers\n",
    "even_num = list(filter(lambda x: (x%2 == 0) , num_ist))\n",
    "print(even_num)\n",
    "\n",
    "# Use of map to caculate the square \n",
    "nums = [1,2,3]\n",
    "squares = map(lambda num: num * num, nums)\n",
    "\n",
    "# Conver map to list to print\n",
    "squares = list(squares)\n",
    "print(squares)"
   ]
  },
  {
   "cell_type": "markdown",
   "metadata": {},
   "source": [
    "## methods\n",
    "- Methods are the function of class\n",
    "- There are basically three types of methods in Python:\n",
    "\n",
    "    * Instance Method\n",
    "    * Class Method\n",
    "    * Static Method"
   ]
  },
  {
   "cell_type": "code",
   "execution_count": 40,
   "metadata": {},
   "outputs": [
    {
     "data": {
      "text/plain": [
       "['Go Sports! ', 'Sports']"
      ]
     },
     "execution_count": 40,
     "metadata": {},
     "output_type": "execute_result"
    }
   ],
   "source": [
    "# Instance Methods\n",
    "st = 'hello my name is Sam'\n",
    "tweet = 'Go Sports! #Sports'\n",
    "\n",
    "# lower() is an instance method on string class\n",
    "st.lower()\n",
    "st.upper()\n",
    "st.split()\n",
    "tweet.split('#')"
   ]
  },
  {
   "cell_type": "markdown",
   "metadata": {},
   "source": [
    "## Python OOP Concepts\n",
    "- Python is an object oriented programming language.\n",
    "- Almost everything in Python is an object, with its properties and methods.\n",
    "- A Class is like an object constructor, or a \"blueprint\" for creating objects.\n",
    "- `self` keyword is used to reference the instance of an object\n",
    "- Python support multiple inheritance\n",
    "\n",
    "\n"
   ]
  },
  {
   "cell_type": "code",
   "execution_count": 50,
   "metadata": {},
   "outputs": [],
   "source": [
    "# Create a class \n",
    "\n",
    "class Customer:\n",
    "    first_name = \"manoj\" \n",
    "    last_name = \"gautam\"\n",
    "    \n",
    "    #Initilizer \n",
    "    def __init__(self, first_name, last_name, age, salary):\n",
    "        self.first_name = first_name,\n",
    "        self.last_name = last_name\n",
    "        self.age = age\n",
    "        self.salary = salary\n",
    "        \n",
    "    # methods \n",
    "    def calculate_age_in_days(self):\n",
    "        return self.age * 365\n",
    "        \n",
    "\n",
    "# Creating object from class \n",
    "c = Customer(\"manoj\", \"gautam\", 31, 20000)\n",
    "\n",
    "# Calling object attributes\n",
    "c.first_name\n",
    "c.last_name \n",
    "\n",
    "# Calling object method\n",
    "c.calculate_age_in_days()\n",
    "\n",
    "# deleting object from memory\n",
    "del c\n",
    "\n",
    "\n"
   ]
  },
  {
   "cell_type": "markdown",
   "metadata": {},
   "source": [
    "## Python inheritance\n",
    "- Python classes can inherit parent class attributes and behaviour\n",
    "- Python supports multiple inheritance\n",
    "- `Parent class` is the class being inherited from, also called base class.\n",
    "- `Child class` is the class that inherits from another class, also called derived class."
   ]
  },
  {
   "cell_type": "code",
   "execution_count": 56,
   "metadata": {},
   "outputs": [
    {
     "name": "stdout",
     "output_type": "stream",
     "text": [
      "manoj\n"
     ]
    }
   ],
   "source": [
    "class Person:\n",
    "    def __init__(self, name, age):\n",
    "        self.name = name\n",
    "        self.age = age\n",
    "        \n",
    "    \n",
    "    def get_name(self):\n",
    "        return self.name\n",
    "        \n",
    "\n",
    "class Student(Person):\n",
    "    def __init__(self, name, age, roll_number):\n",
    "        super().__init__(name, age)\n",
    "        self.roll_number = roll_number \n",
    "        \n",
    "\n",
    "manoj = Student(\"manoj\", 31, 1142)\n",
    "print(manoj.get_name())\n",
    "        "
   ]
  },
  {
   "cell_type": "markdown",
   "metadata": {},
   "source": [
    "## Python JSON handling\n",
    "- JSON is a syntax for storing and exchanging data between computing devices\n",
    "- JSON is text, written with JavaScript object notation.\n",
    "- Use `json` module to work with json data in python\n"
   ]
  },
  {
   "cell_type": "code",
   "execution_count": 79,
   "metadata": {},
   "outputs": [
    {
     "name": "stdout",
     "output_type": "stream",
     "text": [
      "Manoj\n",
      "31\n",
      "Kathmandu\n",
      "{\"name\": \"Manoj Gautam\", \"email\": \"manoj@viatacademy.com\", \"loan_amount\": 20000}\n",
      "\n",
      "\n",
      "Data from loaded json file {'name': 'Manoj Gautam', 'email': 'manoj@viatacademy.com', 'loan_amount': 20000}\n"
     ]
    }
   ],
   "source": [
    "# Importing the module \n",
    "import json \n",
    "\n",
    "# Json data format\n",
    "customer =  '{ \"name\":\"Manoj\", \"age\":31, \"city\":\"Kathmandu\"}'\n",
    "\n",
    "# Converting json data to dictionary to processing with python\n",
    "customer_data = json.loads(customer)\n",
    "\n",
    "# Accessing the converted data \n",
    "print(customer_data.get('name'))\n",
    "print(customer_data.get('age'))\n",
    "print(customer_data.get('city'))\n",
    "\n",
    "# Convert python data to json and saving\n",
    "customer = {'name': 'Manoj Gautam', 'email': 'manoj@viatacademy.com', 'loan_amount': 20000}\n",
    "customer_json_data = json.dumps(customer)\n",
    "print(customer_json_data)\n",
    "\n",
    "# Saving json data to file \n",
    "with open('customer_data.json', 'w') as fp:\n",
    "    json.dump(fp=fp, obj=customer, indent=4)\n",
    "    \n",
    "# Reading the file again\n",
    "with open('customer_data.json', 'r') as fp:\n",
    "    data = json.load(fp)\n",
    "    print('\\n')\n",
    "    print(\"Data from loaded json file\", data)"
   ]
  },
  {
   "cell_type": "markdown",
   "metadata": {},
   "source": [
    "## Reading CSV file using python\n",
    "- CSV stands for “Comma Separated Values.” It is the simplest form of storing data in tabular form as plain text.\n",
    "- Python’s inbuilt module called csv using csv.reader object.\n",
    "\n"
   ]
  },
  {
   "cell_type": "code",
   "execution_count": 94,
   "metadata": {},
   "outputs": [
    {
     "name": "stdout",
     "output_type": "stream",
     "text": [
      "['Loan_ID', 'Gender', 'Married', 'Dependents', 'Education', 'Self_Employed', 'ApplicantIncome', 'CoapplicantIncome', 'LoanAmount', 'Loan_Amount_Term', 'Credit_History', 'Property_Area', 'Loan_Status']\n",
      "['LP001002', 'Male', 'No', '0', 'Graduate', 'No', '5849', '0', '', '360', '1', 'Urban', 'Y']\n",
      "['LP001003', 'Male', 'Yes', '1', 'Graduate', 'No', '4583', '1508', '128', '360', '1', 'Rural', 'N']\n",
      "['LP001005', 'Male', 'Yes', '0', 'Graduate', 'Yes', '3000', '0', '66', '360', '1', 'Urban', 'Y']\n",
      "['LP001006', 'Male', 'Yes', '0', 'Not Graduate', 'No', '2583', '2358', '120', '360', '1', 'Urban', 'Y']\n",
      "['LP001008', 'Male', 'No', '0', 'Graduate', 'No', '6000', '0', '141', '360', '1', 'Urban', 'Y']\n",
      "['LP001011', 'Male', 'Yes', '2', 'Graduate', 'Yes', '5417', '4196', '267', '360', '1', 'Urban', 'Y']\n",
      "['LP001013', 'Male', 'Yes', '0', 'Not Graduate', 'No', '2333', '1516', '95', '360', '1', 'Urban', 'Y']\n",
      "['LP001014', 'Male', 'Yes', '3+', 'Graduate', 'No', '3036', '2504', '158', '360', '0', 'Semiurban', 'N']\n",
      "['LP001018', 'Male', 'Yes', '2', 'Graduate', 'No', '4006', '1526', '168', '360', '1', 'Urban', 'Y']\n",
      "['LP001020', 'Male', 'Yes', '1', 'Graduate', 'No', '12841', '10968', '349', '360', '1', 'Semiurban', 'N']\n",
      "['LP001024', 'Male', 'Yes', '2', 'Graduate', 'No', '3200', '700', '70', '360', '1', 'Urban', 'Y']\n",
      "['LP001027', 'Male', 'Yes', '2', 'Graduate', '', '2500', '1840', '109', '360', '1', 'Urban', 'Y']\n",
      "['LP001028', 'Male', 'Yes', '2', 'Graduate', 'No', '3073', '8106', '200', '360', '1', 'Urban', 'Y']\n",
      "['LP001029', 'Male', 'No', '0', 'Graduate', 'No', '1853', '2840', '114', '360', '1', 'Rural', 'N']\n",
      "['LP001030', 'Male', 'Yes', '2', 'Graduate', 'No', '1299', '1086', '17', '120', '1', 'Urban', 'Y']\n",
      "['LP001032', 'Male', 'No', '0', 'Graduate', 'No', '4950', '0', '125', '360', '1', 'Urban', 'Y']\n",
      "['LP001034', 'Male', 'No', '1', 'Not Graduate', 'No', '3596', '0', '100', '240', '', 'Urban', 'Y']\n",
      "['LP001036', 'Female', 'No', '0', 'Graduate', 'No', '3510', '0', '76', '360', '0', 'Urban', 'N']\n",
      "['LP001038', 'Male', 'Yes', '0', 'Not Graduate', 'No', '4887', '0', '133', '360', '1', 'Rural', 'N']\n",
      "['LP001041', 'Male', 'Yes', '0', 'Graduate', '', '2600', '3500', '115', '', '1', 'Urban', 'Y']\n",
      "['LP001043', 'Male', 'Yes', '0', 'Not Graduate', 'No', '7660', '0', '104', '360', '0', 'Urban', 'N']\n",
      "['LP001046', 'Male', 'Yes', '1', 'Graduate', 'No', '5955', '5625', '315', '360', '1', 'Urban', 'Y']\n",
      "['LP001047', 'Male', 'Yes', '0', 'Not Graduate', 'No', '2600', '1911', '116', '360', '0', 'Semiurban', 'N']\n",
      "['LP001050', '', 'Yes', '2', 'Not Graduate', 'No', '3365', '1917', '112', '360', '0', 'Rural', 'N']\n",
      "['LP001052', 'Male', 'Yes', '1', 'Graduate', '', '3717', '2925', '151', '360', '', 'Semiurban', 'N']\n",
      "['LP001066', 'Male', 'Yes', '0', 'Graduate', 'Yes', '9560', '0', '191', '360', '1', 'Semiurban', 'Y']\n",
      "['LP001068', 'Male', 'Yes', '0', 'Graduate', 'No', '2799', '2253', '122', '360', '1', 'Semiurban', 'Y']\n",
      "['LP001073', 'Male', 'Yes', '2', 'Not Graduate', 'No', '4226', '1040', '110', '360', '1', 'Urban', 'Y']\n",
      "['LP001086', 'Male', 'No', '0', 'Not Graduate', 'No', '1442', '0', '35', '360', '1', 'Urban', 'N']\n",
      "['LP001087', 'Female', 'No', '2', 'Graduate', '', '3750', '2083', '120', '360', '1', 'Semiurban', 'Y']\n",
      "['LP001091', 'Male', 'Yes', '1', 'Graduate', '', '4166', '3369', '201', '360', '', 'Urban', 'N']\n",
      "['LP001095', 'Male', 'No', '0', 'Graduate', 'No', '3167', '0', '74', '360', '1', 'Urban', 'N']\n",
      "['LP001097', 'Male', 'No', '1', 'Graduate', 'Yes', '4692', '0', '106', '360', '1', 'Rural', 'N']\n",
      "['LP001098', 'Male', 'Yes', '0', 'Graduate', 'No', '3500', '1667', '114', '360', '1', 'Semiurban', 'Y']\n",
      "['LP001100', 'Male', 'No', '3+', 'Graduate', 'No', '12500', '3000', '320', '360', '1', 'Rural', 'N']\n",
      "['LP001106', 'Male', 'Yes', '0', 'Graduate', 'No', '2275', '2067', '', '360', '1', 'Urban', 'Y']\n",
      "['LP001109', 'Male', 'Yes', '0', 'Graduate', 'No', '1828', '1330', '100', '', '0', 'Urban', 'N']\n",
      "['LP001112', 'Female', 'Yes', '0', 'Graduate', 'No', '3667', '1459', '144', '360', '1', 'Semiurban', 'Y']\n",
      "['LP001114', 'Male', 'No', '0', 'Graduate', 'No', '4166', '7210', '184', '360', '1', 'Urban', 'Y']\n",
      "['LP001116', 'Male', 'No', '0', 'Not Graduate', 'No', '3748', '1668', '110', '360', '1', 'Semiurban', 'Y']\n",
      "['LP001119', 'Male', 'No', '0', 'Graduate', 'No', '3600', '0', '80', '360', '1', 'Urban', 'N']\n",
      "['LP001120', 'Male', 'No', '0', 'Graduate', 'No', '1800', '1213', '47', '360', '1', 'Urban', 'Y']\n",
      "['LP001123', 'Male', 'Yes', '0', 'Graduate', 'No', '2400', '0', '75', '360', '', 'Urban', 'Y']\n",
      "['LP001131', 'Male', 'Yes', '0', 'Graduate', 'No', '3941', '2336', '134', '360', '1', 'Semiurban', 'Y']\n",
      "['LP001136', 'Male', 'Yes', '0', 'Not Graduate', 'Yes', '4695', '0', '96', '', '1', 'Urban', 'Y']\n",
      "['LP001137', 'Female', 'No', '0', 'Graduate', 'No', '3410', '0', '88', '', '1', 'Urban', 'Y']\n",
      "['LP001138', 'Male', 'Yes', '1', 'Graduate', 'No', '5649', '0', '44', '360', '1', 'Urban', 'Y']\n",
      "['LP001144', 'Male', 'Yes', '0', 'Graduate', 'No', '5821', '0', '144', '360', '1', 'Urban', 'Y']\n",
      "['LP001146', 'Female', 'Yes', '0', 'Graduate', 'No', '2645', '3440', '120', '360', '0', 'Urban', 'N']\n",
      "['LP001151', 'Female', 'No', '0', 'Graduate', 'No', '4000', '2275', '144', '360', '1', 'Semiurban', 'Y']\n",
      "['LP001155', 'Female', 'Yes', '0', 'Not Graduate', 'No', '1928', '1644', '100', '360', '1', 'Semiurban', 'Y']\n",
      "['LP001157', 'Female', 'No', '0', 'Graduate', 'No', '3086', '0', '120', '360', '1', 'Semiurban', 'Y']\n",
      "['LP001164', 'Female', 'No', '0', 'Graduate', 'No', '4230', '0', '112', '360', '1', 'Semiurban', 'N']\n",
      "['LP001179', 'Male', 'Yes', '2', 'Graduate', 'No', '4616', '0', '134', '360', '1', 'Urban', 'N']\n",
      "['LP001186', 'Female', 'Yes', '1', 'Graduate', 'Yes', '11500', '0', '286', '360', '0', 'Urban', 'N']\n",
      "['LP001194', 'Male', 'Yes', '2', 'Graduate', 'No', '2708', '1167', '97', '360', '1', 'Semiurban', 'Y']\n",
      "['LP001195', 'Male', 'Yes', '0', 'Graduate', 'No', '2132', '1591', '96', '360', '1', 'Semiurban', 'Y']\n",
      "['LP001197', 'Male', 'Yes', '0', 'Graduate', 'No', '3366', '2200', '135', '360', '1', 'Rural', 'N']\n",
      "['LP001198', 'Male', 'Yes', '1', 'Graduate', 'No', '8080', '2250', '180', '360', '1', 'Urban', 'Y']\n",
      "['LP001199', 'Male', 'Yes', '2', 'Not Graduate', 'No', '3357', '2859', '144', '360', '1', 'Urban', 'Y']\n",
      "['LP001205', 'Male', 'Yes', '0', 'Graduate', 'No', '2500', '3796', '120', '360', '1', 'Urban', 'Y']\n",
      "['LP001206', 'Male', 'Yes', '3+', 'Graduate', 'No', '3029', '0', '99', '360', '1', 'Urban', 'Y']\n",
      "['LP001207', 'Male', 'Yes', '0', 'Not Graduate', 'Yes', '2609', '3449', '165', '180', '0', 'Rural', 'N']\n",
      "['LP001213', 'Male', 'Yes', '1', 'Graduate', 'No', '4945', '0', '', '360', '0', 'Rural', 'N']\n",
      "['LP001222', 'Female', 'No', '0', 'Graduate', 'No', '4166', '0', '116', '360', '0', 'Semiurban', 'N']\n",
      "['LP001225', 'Male', 'Yes', '0', 'Graduate', 'No', '5726', '4595', '258', '360', '1', 'Semiurban', 'N']\n",
      "['LP001228', 'Male', 'No', '0', 'Not Graduate', 'No', '3200', '2254', '126', '180', '0', 'Urban', 'N']\n",
      "['LP001233', 'Male', 'Yes', '1', 'Graduate', 'No', '10750', '0', '312', '360', '1', 'Urban', 'Y']\n",
      "['LP001238', 'Male', 'Yes', '3+', 'Not Graduate', 'Yes', '7100', '0', '125', '60', '1', 'Urban', 'Y']\n",
      "['LP001241', 'Female', 'No', '0', 'Graduate', 'No', '4300', '0', '136', '360', '0', 'Semiurban', 'N']\n",
      "['LP001243', 'Male', 'Yes', '0', 'Graduate', 'No', '3208', '3066', '172', '360', '1', 'Urban', 'Y']\n",
      "['LP001245', 'Male', 'Yes', '2', 'Not Graduate', 'Yes', '1875', '1875', '97', '360', '1', 'Semiurban', 'Y']\n",
      "['LP001248', 'Male', 'No', '0', 'Graduate', 'No', '3500', '0', '81', '300', '1', 'Semiurban', 'Y']\n",
      "['LP001250', 'Male', 'Yes', '3+', 'Not Graduate', 'No', '4755', '0', '95', '', '0', 'Semiurban', 'N']\n",
      "['LP001253', 'Male', 'Yes', '3+', 'Graduate', 'Yes', '5266', '1774', '187', '360', '1', 'Semiurban', 'Y']\n",
      "['LP001255', 'Male', 'No', '0', 'Graduate', 'No', '3750', '0', '113', '480', '1', 'Urban', 'N']\n",
      "['LP001256', 'Male', 'No', '0', 'Graduate', 'No', '3750', '4750', '176', '360', '1', 'Urban', 'N']\n",
      "['LP001259', 'Male', 'Yes', '1', 'Graduate', 'Yes', '1000', '3022', '110', '360', '1', 'Urban', 'N']\n",
      "['LP001263', 'Male', 'Yes', '3+', 'Graduate', 'No', '3167', '4000', '180', '300', '0', 'Semiurban', 'N']\n",
      "['LP001264', 'Male', 'Yes', '3+', 'Not Graduate', 'Yes', '3333', '2166', '130', '360', '', 'Semiurban', 'Y']\n",
      "['LP001265', 'Female', 'No', '0', 'Graduate', 'No', '3846', '0', '111', '360', '1', 'Semiurban', 'Y']\n",
      "['LP001266', 'Male', 'Yes', '1', 'Graduate', 'Yes', '2395', '0', '', '360', '1', 'Semiurban', 'Y']\n",
      "['LP001267', 'Female', 'Yes', '2', 'Graduate', 'No', '1378', '1881', '167', '360', '1', 'Urban', 'N']\n",
      "['LP001273', 'Male', 'Yes', '0', 'Graduate', 'No', '6000', '2250', '265', '360', '', 'Semiurban', 'N']\n",
      "['LP001275', 'Male', 'Yes', '1', 'Graduate', 'No', '3988', '0', '50', '240', '1', 'Urban', 'Y']\n",
      "['LP001279', 'Male', 'No', '0', 'Graduate', 'No', '2366', '2531', '136', '360', '1', 'Semiurban', 'Y']\n",
      "['LP001280', 'Male', 'Yes', '2', 'Not Graduate', 'No', '3333', '2000', '99', '360', '', 'Semiurban', 'Y']\n",
      "['LP001282', 'Male', 'Yes', '0', 'Graduate', 'No', '2500', '2118', '104', '360', '1', 'Semiurban', 'Y']\n",
      "['LP001289', 'Male', 'No', '0', 'Graduate', 'No', '8566', '0', '210', '360', '1', 'Urban', 'Y']\n",
      "['LP001310', 'Male', 'Yes', '0', 'Graduate', 'No', '5695', '4167', '175', '360', '1', 'Semiurban', 'Y']\n",
      "['LP001316', 'Male', 'Yes', '0', 'Graduate', 'No', '2958', '2900', '131', '360', '1', 'Semiurban', 'Y']\n",
      "['LP001318', 'Male', 'Yes', '2', 'Graduate', 'No', '6250', '5654', '188', '180', '1', 'Semiurban', 'Y']\n",
      "['LP001319', 'Male', 'Yes', '2', 'Not Graduate', 'No', '3273', '1820', '81', '360', '1', 'Urban', 'Y']\n",
      "['LP001322', 'Male', 'No', '0', 'Graduate', 'No', '4133', '0', '122', '360', '1', 'Semiurban', 'Y']\n",
      "['LP001325', 'Male', 'No', '0', 'Not Graduate', 'No', '3620', '0', '25', '120', '1', 'Semiurban', 'Y']\n",
      "['LP001326', 'Male', 'No', '0', 'Graduate', '', '6782', '0', '', '360', '', 'Urban', 'N']\n",
      "['LP001327', 'Female', 'Yes', '0', 'Graduate', 'No', '2484', '2302', '137', '360', '1', 'Semiurban', 'Y']\n",
      "['LP001333', 'Male', 'Yes', '0', 'Graduate', 'No', '1977', '997', '50', '360', '1', 'Semiurban', 'Y']\n",
      "['LP001334', 'Male', 'Yes', '0', 'Not Graduate', 'No', '4188', '0', '115', '180', '1', 'Semiurban', 'Y']\n",
      "['LP001343', 'Male', 'Yes', '0', 'Graduate', 'No', '1759', '3541', '131', '360', '1', 'Semiurban', 'Y']\n",
      "['LP001345', 'Male', 'Yes', '2', 'Not Graduate', 'No', '4288', '3263', '133', '180', '1', 'Urban', 'Y']\n",
      "['LP001349', 'Male', 'No', '0', 'Graduate', 'No', '4843', '3806', '151', '360', '1', 'Semiurban', 'Y']\n",
      "['LP001350', 'Male', 'Yes', '', 'Graduate', 'No', '13650', '0', '', '360', '1', 'Urban', 'Y']\n",
      "['LP001356', 'Male', 'Yes', '0', 'Graduate', 'No', '4652', '3583', '', '360', '1', 'Semiurban', 'Y']\n",
      "['LP001357', 'Male', '', '', 'Graduate', 'No', '3816', '754', '160', '360', '1', 'Urban', 'Y']\n",
      "['LP001367', 'Male', 'Yes', '1', 'Graduate', 'No', '3052', '1030', '100', '360', '1', 'Urban', 'Y']\n",
      "['LP001369', 'Male', 'Yes', '2', 'Graduate', 'No', '11417', '1126', '225', '360', '1', 'Urban', 'Y']\n",
      "['LP001370', 'Male', 'No', '0', 'Not Graduate', '', '7333', '0', '120', '360', '1', 'Rural', 'N']\n",
      "['LP001379', 'Male', 'Yes', '2', 'Graduate', 'No', '3800', '3600', '216', '360', '0', 'Urban', 'N']\n",
      "['LP001384', 'Male', 'Yes', '3+', 'Not Graduate', 'No', '2071', '754', '94', '480', '1', 'Semiurban', 'Y']\n",
      "['LP001385', 'Male', 'No', '0', 'Graduate', 'No', '5316', '0', '136', '360', '1', 'Urban', 'Y']\n",
      "['LP001387', 'Female', 'Yes', '0', 'Graduate', '', '2929', '2333', '139', '360', '1', 'Semiurban', 'Y']\n",
      "['LP001391', 'Male', 'Yes', '0', 'Not Graduate', 'No', '3572', '4114', '152', '', '0', 'Rural', 'N']\n",
      "['LP001392', 'Female', 'No', '1', 'Graduate', 'Yes', '7451', '0', '', '360', '1', 'Semiurban', 'Y']\n",
      "['LP001398', 'Male', 'No', '0', 'Graduate', '', '5050', '0', '118', '360', '1', 'Semiurban', 'Y']\n",
      "['LP001401', 'Male', 'Yes', '1', 'Graduate', 'No', '14583', '0', '185', '180', '1', 'Rural', 'Y']\n",
      "['LP001404', 'Female', 'Yes', '0', 'Graduate', 'No', '3167', '2283', '154', '360', '1', 'Semiurban', 'Y']\n",
      "['LP001405', 'Male', 'Yes', '1', 'Graduate', 'No', '2214', '1398', '85', '360', '', 'Urban', 'Y']\n",
      "['LP001421', 'Male', 'Yes', '0', 'Graduate', 'No', '5568', '2142', '175', '360', '1', 'Rural', 'N']\n",
      "['LP001422', 'Female', 'No', '0', 'Graduate', 'No', '10408', '0', '259', '360', '1', 'Urban', 'Y']\n",
      "['LP001426', 'Male', 'Yes', '', 'Graduate', 'No', '5667', '2667', '180', '360', '1', 'Rural', 'Y']\n",
      "['LP001430', 'Female', 'No', '0', 'Graduate', 'No', '4166', '0', '44', '360', '1', 'Semiurban', 'Y']\n",
      "['LP001431', 'Female', 'No', '0', 'Graduate', 'No', '2137', '8980', '137', '360', '0', 'Semiurban', 'Y']\n",
      "['LP001432', 'Male', 'Yes', '2', 'Graduate', 'No', '2957', '0', '81', '360', '1', 'Semiurban', 'Y']\n",
      "['LP001439', 'Male', 'Yes', '0', 'Not Graduate', 'No', '4300', '2014', '194', '360', '1', 'Rural', 'Y']\n",
      "['LP001443', 'Female', 'No', '0', 'Graduate', 'No', '3692', '0', '93', '360', '', 'Rural', 'Y']\n",
      "['LP001448', '', 'Yes', '3+', 'Graduate', 'No', '23803', '0', '370', '360', '1', 'Rural', 'Y']\n",
      "['LP001449', 'Male', 'No', '0', 'Graduate', 'No', '3865', '1640', '', '360', '1', 'Rural', 'Y']\n",
      "['LP001451', 'Male', 'Yes', '1', 'Graduate', 'Yes', '10513', '3850', '160', '180', '0', 'Urban', 'N']\n",
      "['LP001465', 'Male', 'Yes', '0', 'Graduate', 'No', '6080', '2569', '182', '360', '', 'Rural', 'N']\n",
      "['LP001469', 'Male', 'No', '0', 'Graduate', 'Yes', '20166', '0', '650', '480', '', 'Urban', 'Y']\n",
      "['LP001473', 'Male', 'No', '0', 'Graduate', 'No', '2014', '1929', '74', '360', '1', 'Urban', 'Y']\n",
      "['LP001478', 'Male', 'No', '0', 'Graduate', 'No', '2718', '0', '70', '360', '1', 'Semiurban', 'Y']\n",
      "['LP001482', 'Male', 'Yes', '0', 'Graduate', 'Yes', '3459', '0', '25', '120', '1', 'Semiurban', 'Y']\n",
      "['LP001487', 'Male', 'No', '0', 'Graduate', 'No', '4895', '0', '102', '360', '1', 'Semiurban', 'Y']\n",
      "['LP001488', 'Male', 'Yes', '3+', 'Graduate', 'No', '4000', '7750', '290', '360', '1', 'Semiurban', 'N']\n",
      "['LP001489', 'Female', 'Yes', '0', 'Graduate', 'No', '4583', '0', '84', '360', '1', 'Rural', 'N']\n",
      "['LP001491', 'Male', 'Yes', '2', 'Graduate', 'Yes', '3316', '3500', '88', '360', '1', 'Urban', 'Y']\n",
      "['LP001492', 'Male', 'No', '0', 'Graduate', 'No', '14999', '0', '242', '360', '0', 'Semiurban', 'N']\n",
      "['LP001493', 'Male', 'Yes', '2', 'Not Graduate', 'No', '4200', '1430', '129', '360', '1', 'Rural', 'N']\n",
      "['LP001497', 'Male', 'Yes', '2', 'Graduate', 'No', '5042', '2083', '185', '360', '1', 'Rural', 'N']\n",
      "['LP001498', 'Male', 'No', '0', 'Graduate', 'No', '5417', '0', '168', '360', '1', 'Urban', 'Y']\n",
      "['LP001504', 'Male', 'No', '0', 'Graduate', 'Yes', '6950', '0', '175', '180', '1', 'Semiurban', 'Y']\n",
      "['LP001507', 'Male', 'Yes', '0', 'Graduate', 'No', '2698', '2034', '122', '360', '1', 'Semiurban', 'Y']\n",
      "['LP001508', 'Male', 'Yes', '2', 'Graduate', 'No', '11757', '0', '187', '180', '1', 'Urban', 'Y']\n",
      "['LP001514', 'Female', 'Yes', '0', 'Graduate', 'No', '2330', '4486', '100', '360', '1', 'Semiurban', 'Y']\n",
      "['LP001516', 'Female', 'Yes', '2', 'Graduate', 'No', '14866', '0', '70', '360', '1', 'Urban', 'Y']\n",
      "['LP001518', 'Male', 'Yes', '1', 'Graduate', 'No', '1538', '1425', '30', '360', '1', 'Urban', 'Y']\n",
      "['LP001519', 'Female', 'No', '0', 'Graduate', 'No', '10000', '1666', '225', '360', '1', 'Rural', 'N']\n",
      "['LP001520', 'Male', 'Yes', '0', 'Graduate', 'No', '4860', '830', '125', '360', '1', 'Semiurban', 'Y']\n",
      "['LP001528', 'Male', 'No', '0', 'Graduate', 'No', '6277', '0', '118', '360', '0', 'Rural', 'N']\n",
      "['LP001529', 'Male', 'Yes', '0', 'Graduate', 'Yes', '2577', '3750', '152', '360', '1', 'Rural', 'Y']\n",
      "['LP001531', 'Male', 'No', '0', 'Graduate', 'No', '9166', '0', '244', '360', '1', 'Urban', 'N']\n",
      "['LP001532', 'Male', 'Yes', '2', 'Not Graduate', 'No', '2281', '0', '113', '360', '1', 'Rural', 'N']\n",
      "['LP001535', 'Male', 'No', '0', 'Graduate', 'No', '3254', '0', '50', '360', '1', 'Urban', 'Y']\n",
      "['LP001536', 'Male', 'Yes', '3+', 'Graduate', 'No', '39999', '0', '600', '180', '0', 'Semiurban', 'Y']\n",
      "['LP001541', 'Male', 'Yes', '1', 'Graduate', 'No', '6000', '0', '160', '360', '', 'Rural', 'Y']\n",
      "['LP001543', 'Male', 'Yes', '1', 'Graduate', 'No', '9538', '0', '187', '360', '1', 'Urban', 'Y']\n",
      "['LP001546', 'Male', 'No', '0', 'Graduate', '', '2980', '2083', '120', '360', '1', 'Rural', 'Y']\n",
      "['LP001552', 'Male', 'Yes', '0', 'Graduate', 'No', '4583', '5625', '255', '360', '1', 'Semiurban', 'Y']\n",
      "['LP001560', 'Male', 'Yes', '0', 'Not Graduate', 'No', '1863', '1041', '98', '360', '1', 'Semiurban', 'Y']\n",
      "['LP001562', 'Male', 'Yes', '0', 'Graduate', 'No', '7933', '0', '275', '360', '1', 'Urban', 'N']\n",
      "['LP001565', 'Male', 'Yes', '1', 'Graduate', 'No', '3089', '1280', '121', '360', '0', 'Semiurban', 'N']\n",
      "['LP001570', 'Male', 'Yes', '2', 'Graduate', 'No', '4167', '1447', '158', '360', '1', 'Rural', 'Y']\n",
      "['LP001572', 'Male', 'Yes', '0', 'Graduate', 'No', '9323', '0', '75', '180', '1', 'Urban', 'Y']\n",
      "['LP001574', 'Male', 'Yes', '0', 'Graduate', 'No', '3707', '3166', '182', '', '1', 'Rural', 'Y']\n",
      "['LP001577', 'Female', 'Yes', '0', 'Graduate', 'No', '4583', '0', '112', '360', '1', 'Rural', 'N']\n",
      "['LP001578', 'Male', 'Yes', '0', 'Graduate', 'No', '2439', '3333', '129', '360', '1', 'Rural', 'Y']\n",
      "['LP001579', 'Male', 'No', '0', 'Graduate', 'No', '2237', '0', '63', '480', '0', 'Semiurban', 'N']\n",
      "['LP001580', 'Male', 'Yes', '2', 'Graduate', 'No', '8000', '0', '200', '360', '1', 'Semiurban', 'Y']\n",
      "['LP001581', 'Male', 'Yes', '0', 'Not Graduate', '', '1820', '1769', '95', '360', '1', 'Rural', 'Y']\n",
      "['LP001585', '', 'Yes', '3+', 'Graduate', 'No', '51763', '0', '700', '300', '1', 'Urban', 'Y']\n",
      "['LP001586', 'Male', 'Yes', '3+', 'Not Graduate', 'No', '3522', '0', '81', '180', '1', 'Rural', 'N']\n",
      "['LP001594', 'Male', 'Yes', '0', 'Graduate', 'No', '5708', '5625', '187', '360', '1', 'Semiurban', 'Y']\n",
      "['LP001603', 'Male', 'Yes', '0', 'Not Graduate', 'Yes', '4344', '736', '87', '360', '1', 'Semiurban', 'N']\n",
      "['LP001606', 'Male', 'Yes', '0', 'Graduate', 'No', '3497', '1964', '116', '360', '1', 'Rural', 'Y']\n",
      "['LP001608', 'Male', 'Yes', '2', 'Graduate', 'No', '2045', '1619', '101', '360', '1', 'Rural', 'Y']\n",
      "['LP001610', 'Male', 'Yes', '3+', 'Graduate', 'No', '5516', '11300', '495', '360', '0', 'Semiurban', 'N']\n",
      "['LP001616', 'Male', 'Yes', '1', 'Graduate', 'No', '3750', '0', '116', '360', '1', 'Semiurban', 'Y']\n",
      "['LP001630', 'Male', 'No', '0', 'Not Graduate', 'No', '2333', '1451', '102', '480', '0', 'Urban', 'N']\n",
      "['LP001633', 'Male', 'Yes', '1', 'Graduate', 'No', '6400', '7250', '180', '360', '0', 'Urban', 'N']\n",
      "['LP001634', 'Male', 'No', '0', 'Graduate', 'No', '1916', '5063', '67', '360', '', 'Rural', 'N']\n",
      "['LP001636', 'Male', 'Yes', '0', 'Graduate', 'No', '4600', '0', '73', '180', '1', 'Semiurban', 'Y']\n",
      "['LP001637', 'Male', 'Yes', '1', 'Graduate', 'No', '33846', '0', '260', '360', '1', 'Semiurban', 'N']\n",
      "['LP001639', 'Female', 'Yes', '0', 'Graduate', 'No', '3625', '0', '108', '360', '1', 'Semiurban', 'Y']\n",
      "['LP001640', 'Male', 'Yes', '0', 'Graduate', 'Yes', '39147', '4750', '120', '360', '1', 'Semiurban', 'Y']\n",
      "['LP001641', 'Male', 'Yes', '1', 'Graduate', 'Yes', '2178', '0', '66', '300', '0', 'Rural', 'N']\n",
      "['LP001643', 'Male', 'Yes', '0', 'Graduate', 'No', '2383', '2138', '58', '360', '', 'Rural', 'Y']\n",
      "['LP001644', '', 'Yes', '0', 'Graduate', 'Yes', '674', '5296', '168', '360', '1', 'Rural', 'Y']\n",
      "['LP001647', 'Male', 'Yes', '0', 'Graduate', 'No', '9328', '0', '188', '180', '1', 'Rural', 'Y']\n",
      "['LP001653', 'Male', 'No', '0', 'Not Graduate', 'No', '4885', '0', '48', '360', '1', 'Rural', 'Y']\n",
      "['LP001656', 'Male', 'No', '0', 'Graduate', 'No', '12000', '0', '164', '360', '1', 'Semiurban', 'N']\n",
      "['LP001657', 'Male', 'Yes', '0', 'Not Graduate', 'No', '6033', '0', '160', '360', '1', 'Urban', 'N']\n",
      "['LP001658', 'Male', 'No', '0', 'Graduate', 'No', '3858', '0', '76', '360', '1', 'Semiurban', 'Y']\n",
      "['LP001664', 'Male', 'No', '0', 'Graduate', 'No', '4191', '0', '120', '360', '1', 'Rural', 'Y']\n",
      "['LP001665', 'Male', 'Yes', '1', 'Graduate', 'No', '3125', '2583', '170', '360', '1', 'Semiurban', 'N']\n",
      "['LP001666', 'Male', 'No', '0', 'Graduate', 'No', '8333', '3750', '187', '360', '1', 'Rural', 'Y']\n",
      "['LP001669', 'Female', 'No', '0', 'Not Graduate', 'No', '1907', '2365', '120', '', '1', 'Urban', 'Y']\n",
      "['LP001671', 'Female', 'Yes', '0', 'Graduate', 'No', '3416', '2816', '113', '360', '', 'Semiurban', 'Y']\n",
      "['LP001673', 'Male', 'No', '0', 'Graduate', 'Yes', '11000', '0', '83', '360', '1', 'Urban', 'N']\n",
      "['LP001674', 'Male', 'Yes', '1', 'Not Graduate', 'No', '2600', '2500', '90', '360', '1', 'Semiurban', 'Y']\n",
      "['LP001677', 'Male', 'No', '2', 'Graduate', 'No', '4923', '0', '166', '360', '0', 'Semiurban', 'Y']\n",
      "['LP001682', 'Male', 'Yes', '3+', 'Not Graduate', 'No', '3992', '0', '', '180', '1', 'Urban', 'N']\n",
      "['LP001688', 'Male', 'Yes', '1', 'Not Graduate', 'No', '3500', '1083', '135', '360', '1', 'Urban', 'Y']\n",
      "['LP001691', 'Male', 'Yes', '2', 'Not Graduate', 'No', '3917', '0', '124', '360', '1', 'Semiurban', 'Y']\n",
      "['LP001692', 'Female', 'No', '0', 'Not Graduate', 'No', '4408', '0', '120', '360', '1', 'Semiurban', 'Y']\n",
      "['LP001693', 'Female', 'No', '0', 'Graduate', 'No', '3244', '0', '80', '360', '1', 'Urban', 'Y']\n",
      "['LP001698', 'Male', 'No', '0', 'Not Graduate', 'No', '3975', '2531', '55', '360', '1', 'Rural', 'Y']\n",
      "['LP001699', 'Male', 'No', '0', 'Graduate', 'No', '2479', '0', '59', '360', '1', 'Urban', 'Y']\n",
      "['LP001702', 'Male', 'No', '0', 'Graduate', 'No', '3418', '0', '127', '360', '1', 'Semiurban', 'N']\n",
      "['LP001708', 'Female', 'No', '0', 'Graduate', 'No', '10000', '0', '214', '360', '1', 'Semiurban', 'N']\n",
      "['LP001711', 'Male', 'Yes', '3+', 'Graduate', 'No', '3430', '1250', '128', '360', '0', 'Semiurban', 'N']\n",
      "['LP001713', 'Male', 'Yes', '1', 'Graduate', 'Yes', '7787', '0', '240', '360', '1', 'Urban', 'Y']\n",
      "['LP001715', 'Male', 'Yes', '3+', 'Not Graduate', 'Yes', '5703', '0', '130', '360', '1', 'Rural', 'Y']\n",
      "['LP001716', 'Male', 'Yes', '0', 'Graduate', 'No', '3173', '3021', '137', '360', '1', 'Urban', 'Y']\n",
      "['LP001720', 'Male', 'Yes', '3+', 'Not Graduate', 'No', '3850', '983', '100', '360', '1', 'Semiurban', 'Y']\n",
      "['LP001722', 'Male', 'Yes', '0', 'Graduate', 'No', '150', '1800', '135', '360', '1', 'Rural', 'N']\n",
      "['LP001726', 'Male', 'Yes', '0', 'Graduate', 'No', '3727', '1775', '131', '360', '1', 'Semiurban', 'Y']\n",
      "['LP001732', 'Male', 'Yes', '2', 'Graduate', '', '5000', '0', '72', '360', '0', 'Semiurban', 'N']\n",
      "['LP001734', 'Female', 'Yes', '2', 'Graduate', 'No', '4283', '2383', '127', '360', '', 'Semiurban', 'Y']\n",
      "['LP001736', 'Male', 'Yes', '0', 'Graduate', 'No', '2221', '0', '60', '360', '0', 'Urban', 'N']\n",
      "['LP001743', 'Male', 'Yes', '2', 'Graduate', 'No', '4009', '1717', '116', '360', '1', 'Semiurban', 'Y']\n",
      "['LP001744', 'Male', 'No', '0', 'Graduate', 'No', '2971', '2791', '144', '360', '1', 'Semiurban', 'Y']\n",
      "['LP001749', 'Male', 'Yes', '0', 'Graduate', 'No', '7578', '1010', '175', '', '1', 'Semiurban', 'Y']\n",
      "['LP001750', 'Male', 'Yes', '0', 'Graduate', 'No', '6250', '0', '128', '360', '1', 'Semiurban', 'Y']\n",
      "['LP001751', 'Male', 'Yes', '0', 'Graduate', 'No', '3250', '0', '170', '360', '1', 'Rural', 'N']\n",
      "['LP001754', 'Male', 'Yes', '', 'Not Graduate', 'Yes', '4735', '0', '138', '360', '1', 'Urban', 'N']\n",
      "['LP001758', 'Male', 'Yes', '2', 'Graduate', 'No', '6250', '1695', '210', '360', '1', 'Semiurban', 'Y']\n",
      "['LP001760', 'Male', '', '', 'Graduate', 'No', '4758', '0', '158', '480', '1', 'Semiurban', 'Y']\n",
      "['LP001761', 'Male', 'No', '0', 'Graduate', 'Yes', '6400', '0', '200', '360', '1', 'Rural', 'Y']\n",
      "['LP001765', 'Male', 'Yes', '1', 'Graduate', 'No', '2491', '2054', '104', '360', '1', 'Semiurban', 'Y']\n",
      "['LP001768', 'Male', 'Yes', '0', 'Graduate', '', '3716', '0', '42', '180', '1', 'Rural', 'Y']\n",
      "['LP001770', 'Male', 'No', '0', 'Not Graduate', 'No', '3189', '2598', '120', '', '1', 'Rural', 'Y']\n",
      "['LP001776', 'Female', 'No', '0', 'Graduate', 'No', '8333', '0', '280', '360', '1', 'Semiurban', 'Y']\n",
      "['LP001778', 'Male', 'Yes', '1', 'Graduate', 'No', '3155', '1779', '140', '360', '1', 'Semiurban', 'Y']\n",
      "['LP001784', 'Male', 'Yes', '1', 'Graduate', 'No', '5500', '1260', '170', '360', '1', 'Rural', 'Y']\n",
      "['LP001786', 'Male', 'Yes', '0', 'Graduate', '', '5746', '0', '255', '360', '', 'Urban', 'N']\n",
      "['LP001788', 'Female', 'No', '0', 'Graduate', 'Yes', '3463', '0', '122', '360', '', 'Urban', 'Y']\n",
      "['LP001790', 'Female', 'No', '1', 'Graduate', 'No', '3812', '0', '112', '360', '1', 'Rural', 'Y']\n",
      "['LP001792', 'Male', 'Yes', '1', 'Graduate', 'No', '3315', '0', '96', '360', '1', 'Semiurban', 'Y']\n",
      "['LP001798', 'Male', 'Yes', '2', 'Graduate', 'No', '5819', '5000', '120', '360', '1', 'Rural', 'Y']\n",
      "['LP001800', 'Male', 'Yes', '1', 'Not Graduate', 'No', '2510', '1983', '140', '180', '1', 'Urban', 'N']\n",
      "['LP001806', 'Male', 'No', '0', 'Graduate', 'No', '2965', '5701', '155', '60', '1', 'Urban', 'Y']\n",
      "['LP001807', 'Male', 'Yes', '2', 'Graduate', 'Yes', '6250', '1300', '108', '360', '1', 'Rural', 'Y']\n",
      "['LP001811', 'Male', 'Yes', '0', 'Not Graduate', 'No', '3406', '4417', '123', '360', '1', 'Semiurban', 'Y']\n",
      "['LP001813', 'Male', 'No', '0', 'Graduate', 'Yes', '6050', '4333', '120', '180', '1', 'Urban', 'N']\n",
      "['LP001814', 'Male', 'Yes', '2', 'Graduate', 'No', '9703', '0', '112', '360', '1', 'Urban', 'Y']\n",
      "['LP001819', 'Male', 'Yes', '1', 'Not Graduate', 'No', '6608', '0', '137', '180', '1', 'Urban', 'Y']\n",
      "['LP001824', 'Male', 'Yes', '1', 'Graduate', 'No', '2882', '1843', '123', '480', '1', 'Semiurban', 'Y']\n",
      "['LP001825', 'Male', 'Yes', '0', 'Graduate', 'No', '1809', '1868', '90', '360', '1', 'Urban', 'Y']\n",
      "['LP001835', 'Male', 'Yes', '0', 'Not Graduate', 'No', '1668', '3890', '201', '360', '0', 'Semiurban', 'N']\n",
      "['LP001836', 'Female', 'No', '2', 'Graduate', 'No', '3427', '0', '138', '360', '1', 'Urban', 'N']\n",
      "['LP001841', 'Male', 'No', '0', 'Not Graduate', 'Yes', '2583', '2167', '104', '360', '1', 'Rural', 'Y']\n",
      "['LP001843', 'Male', 'Yes', '1', 'Not Graduate', 'No', '2661', '7101', '279', '180', '1', 'Semiurban', 'Y']\n",
      "['LP001844', 'Male', 'No', '0', 'Graduate', 'Yes', '16250', '0', '192', '360', '0', 'Urban', 'N']\n",
      "['LP001846', 'Female', 'No', '3+', 'Graduate', 'No', '3083', '0', '255', '360', '1', 'Rural', 'Y']\n",
      "['LP001849', 'Male', 'No', '0', 'Not Graduate', 'No', '6045', '0', '115', '360', '0', 'Rural', 'N']\n",
      "['LP001854', 'Male', 'Yes', '3+', 'Graduate', 'No', '5250', '0', '94', '360', '1', 'Urban', 'N']\n",
      "['LP001859', 'Male', 'Yes', '0', 'Graduate', 'No', '14683', '2100', '304', '360', '1', 'Rural', 'N']\n",
      "['LP001864', 'Male', 'Yes', '3+', 'Not Graduate', 'No', '4931', '0', '128', '360', '', 'Semiurban', 'N']\n",
      "['LP001865', 'Male', 'Yes', '1', 'Graduate', 'No', '6083', '4250', '330', '360', '', 'Urban', 'Y']\n",
      "['LP001868', 'Male', 'No', '0', 'Graduate', 'No', '2060', '2209', '134', '360', '1', 'Semiurban', 'Y']\n",
      "['LP001870', 'Female', 'No', '1', 'Graduate', 'No', '3481', '0', '155', '36', '1', 'Semiurban', 'N']\n",
      "['LP001871', 'Female', 'No', '0', 'Graduate', 'No', '7200', '0', '120', '360', '1', 'Rural', 'Y']\n",
      "['LP001872', 'Male', 'No', '0', 'Graduate', 'Yes', '5166', '0', '128', '360', '1', 'Semiurban', 'Y']\n",
      "['LP001875', 'Male', 'No', '0', 'Graduate', 'No', '4095', '3447', '151', '360', '1', 'Rural', 'Y']\n",
      "['LP001877', 'Male', 'Yes', '2', 'Graduate', 'No', '4708', '1387', '150', '360', '1', 'Semiurban', 'Y']\n",
      "['LP001882', 'Male', 'Yes', '3+', 'Graduate', 'No', '4333', '1811', '160', '360', '0', 'Urban', 'Y']\n",
      "['LP001883', 'Female', 'No', '0', 'Graduate', '', '3418', '0', '135', '360', '1', 'Rural', 'N']\n",
      "['LP001884', 'Female', 'No', '1', 'Graduate', 'No', '2876', '1560', '90', '360', '1', 'Urban', 'Y']\n",
      "['LP001888', 'Female', 'No', '0', 'Graduate', 'No', '3237', '0', '30', '360', '1', 'Urban', 'Y']\n",
      "['LP001891', 'Male', 'Yes', '0', 'Graduate', 'No', '11146', '0', '136', '360', '1', 'Urban', 'Y']\n",
      "['LP001892', 'Male', 'No', '0', 'Graduate', 'No', '2833', '1857', '126', '360', '1', 'Rural', 'Y']\n",
      "['LP001894', 'Male', 'Yes', '0', 'Graduate', 'No', '2620', '2223', '150', '360', '1', 'Semiurban', 'Y']\n",
      "['LP001896', 'Male', 'Yes', '2', 'Graduate', 'No', '3900', '0', '90', '360', '1', 'Semiurban', 'Y']\n",
      "['LP001900', 'Male', 'Yes', '1', 'Graduate', 'No', '2750', '1842', '115', '360', '1', 'Semiurban', 'Y']\n",
      "['LP001903', 'Male', 'Yes', '0', 'Graduate', 'No', '3993', '3274', '207', '360', '1', 'Semiurban', 'Y']\n",
      "['LP001904', 'Male', 'Yes', '0', 'Graduate', 'No', '3103', '1300', '80', '360', '1', 'Urban', 'Y']\n",
      "['LP001907', 'Male', 'Yes', '0', 'Graduate', 'No', '14583', '0', '436', '360', '1', 'Semiurban', 'Y']\n",
      "['LP001908', 'Female', 'Yes', '0', 'Not Graduate', 'No', '4100', '0', '124', '360', '', 'Rural', 'Y']\n",
      "['LP001910', 'Male', 'No', '1', 'Not Graduate', 'Yes', '4053', '2426', '158', '360', '0', 'Urban', 'N']\n",
      "['LP001914', 'Male', 'Yes', '0', 'Graduate', 'No', '3927', '800', '112', '360', '1', 'Semiurban', 'Y']\n",
      "['LP001915', 'Male', 'Yes', '2', 'Graduate', 'No', '2301', '985.7999878', '78', '180', '1', 'Urban', 'Y']\n",
      "['LP001917', 'Female', 'No', '0', 'Graduate', 'No', '1811', '1666', '54', '360', '1', 'Urban', 'Y']\n",
      "['LP001922', 'Male', 'Yes', '0', 'Graduate', 'No', '20667', '0', '', '360', '1', 'Rural', 'N']\n",
      "['LP001924', 'Male', 'No', '0', 'Graduate', 'No', '3158', '3053', '89', '360', '1', 'Rural', 'Y']\n",
      "['LP001925', 'Female', 'No', '0', 'Graduate', 'Yes', '2600', '1717', '99', '300', '1', 'Semiurban', 'N']\n",
      "['LP001926', 'Male', 'Yes', '0', 'Graduate', 'No', '3704', '2000', '120', '360', '1', 'Rural', 'Y']\n",
      "['LP001931', 'Female', 'No', '0', 'Graduate', 'No', '4124', '0', '115', '360', '1', 'Semiurban', 'Y']\n",
      "['LP001935', 'Male', 'No', '0', 'Graduate', 'No', '9508', '0', '187', '360', '1', 'Rural', 'Y']\n",
      "['LP001936', 'Male', 'Yes', '0', 'Graduate', 'No', '3075', '2416', '139', '360', '1', 'Rural', 'Y']\n",
      "['LP001938', 'Male', 'Yes', '2', 'Graduate', 'No', '4400', '0', '127', '360', '0', 'Semiurban', 'N']\n",
      "['LP001940', 'Male', 'Yes', '2', 'Graduate', 'No', '3153', '1560', '134', '360', '1', 'Urban', 'Y']\n",
      "['LP001945', 'Female', 'No', '', 'Graduate', 'No', '5417', '0', '143', '480', '0', 'Urban', 'N']\n",
      "['LP001947', 'Male', 'Yes', '0', 'Graduate', 'No', '2383', '3334', '172', '360', '1', 'Semiurban', 'Y']\n",
      "['LP001949', 'Male', 'Yes', '3+', 'Graduate', '', '4416', '1250', '110', '360', '1', 'Urban', 'Y']\n",
      "['LP001953', 'Male', 'Yes', '1', 'Graduate', 'No', '6875', '0', '200', '360', '1', 'Semiurban', 'Y']\n",
      "['LP001954', 'Female', 'Yes', '1', 'Graduate', 'No', '4666', '0', '135', '360', '1', 'Urban', 'Y']\n",
      "['LP001955', 'Female', 'No', '0', 'Graduate', 'No', '5000', '2541', '151', '480', '1', 'Rural', 'N']\n",
      "['LP001963', 'Male', 'Yes', '1', 'Graduate', 'No', '2014', '2925', '113', '360', '1', 'Urban', 'N']\n",
      "['LP001964', 'Male', 'Yes', '0', 'Not Graduate', 'No', '1800', '2934', '93', '360', '0', 'Urban', 'N']\n",
      "['LP001972', 'Male', 'Yes', '', 'Not Graduate', 'No', '2875', '1750', '105', '360', '1', 'Semiurban', 'Y']\n",
      "['LP001974', 'Female', 'No', '0', 'Graduate', 'No', '5000', '0', '132', '360', '1', 'Rural', 'Y']\n",
      "['LP001977', 'Male', 'Yes', '1', 'Graduate', 'No', '1625', '1803', '96', '360', '1', 'Urban', 'Y']\n",
      "['LP001978', 'Male', 'No', '0', 'Graduate', 'No', '4000', '2500', '140', '360', '1', 'Rural', 'Y']\n",
      "['LP001990', 'Male', 'No', '0', 'Not Graduate', 'No', '2000', '0', '', '360', '1', 'Urban', 'N']\n",
      "['LP001993', 'Female', 'No', '0', 'Graduate', 'No', '3762', '1666', '135', '360', '1', 'Rural', 'Y']\n",
      "['LP001994', 'Female', 'No', '0', 'Graduate', 'No', '2400', '1863', '104', '360', '0', 'Urban', 'N']\n",
      "['LP001996', 'Male', 'No', '0', 'Graduate', 'No', '20233', '0', '480', '360', '1', 'Rural', 'N']\n",
      "['LP001998', 'Male', 'Yes', '2', 'Not Graduate', 'No', '7667', '0', '185', '360', '', 'Rural', 'Y']\n",
      "['LP002002', 'Female', 'No', '0', 'Graduate', 'No', '2917', '0', '84', '360', '1', 'Semiurban', 'Y']\n",
      "['LP002004', 'Male', 'No', '0', 'Not Graduate', 'No', '2927', '2405', '111', '360', '1', 'Semiurban', 'Y']\n",
      "['LP002006', 'Female', 'No', '0', 'Graduate', 'No', '2507', '0', '56', '360', '1', 'Rural', 'Y']\n",
      "['LP002008', 'Male', 'Yes', '2', 'Graduate', 'Yes', '5746', '0', '144', '84', '', 'Rural', 'Y']\n",
      "['LP002024', '', 'Yes', '0', 'Graduate', 'No', '2473', '1843', '159', '360', '1', 'Rural', 'N']\n",
      "['LP002031', 'Male', 'Yes', '1', 'Not Graduate', 'No', '3399', '1640', '111', '180', '1', 'Urban', 'Y']\n",
      "['LP002035', 'Male', 'Yes', '2', 'Graduate', 'No', '3717', '0', '120', '360', '1', 'Semiurban', 'Y']\n",
      "['LP002036', 'Male', 'Yes', '0', 'Graduate', 'No', '2058', '2134', '88', '360', '', 'Urban', 'Y']\n",
      "['LP002043', 'Female', 'No', '1', 'Graduate', 'No', '3541', '0', '112', '360', '', 'Semiurban', 'Y']\n",
      "['LP002050', 'Male', 'Yes', '1', 'Graduate', 'Yes', '10000', '0', '155', '360', '1', 'Rural', 'N']\n",
      "['LP002051', 'Male', 'Yes', '0', 'Graduate', 'No', '2400', '2167', '115', '360', '1', 'Semiurban', 'Y']\n",
      "['LP002053', 'Male', 'Yes', '3+', 'Graduate', 'No', '4342', '189', '124', '360', '1', 'Semiurban', 'Y']\n",
      "['LP002054', 'Male', 'Yes', '2', 'Not Graduate', 'No', '3601', '1590', '', '360', '1', 'Rural', 'Y']\n",
      "['LP002055', 'Female', 'No', '0', 'Graduate', 'No', '3166', '2985', '132', '360', '', 'Rural', 'Y']\n",
      "['LP002065', 'Male', 'Yes', '3+', 'Graduate', 'No', '15000', '0', '300', '360', '1', 'Rural', 'Y']\n",
      "['LP002067', 'Male', 'Yes', '1', 'Graduate', 'Yes', '8666', '4983', '376', '360', '0', 'Rural', 'N']\n",
      "['LP002068', 'Male', 'No', '0', 'Graduate', 'No', '4917', '0', '130', '360', '0', 'Rural', 'Y']\n",
      "['LP002082', 'Male', 'Yes', '0', 'Graduate', 'Yes', '5818', '2160', '184', '360', '1', 'Semiurban', 'Y']\n",
      "['LP002086', 'Female', 'Yes', '0', 'Graduate', 'No', '4333', '2451', '110', '360', '1', 'Urban', 'N']\n",
      "['LP002087', 'Female', 'No', '0', 'Graduate', 'No', '2500', '0', '67', '360', '1', 'Urban', 'Y']\n",
      "['LP002097', 'Male', 'No', '1', 'Graduate', 'No', '4384', '1793', '117', '360', '1', 'Urban', 'Y']\n",
      "['LP002098', 'Male', 'No', '0', 'Graduate', 'No', '2935', '0', '98', '360', '1', 'Semiurban', 'Y']\n",
      "['LP002100', 'Male', 'No', '', 'Graduate', 'No', '2833', '0', '71', '360', '1', 'Urban', 'Y']\n",
      "['LP002101', 'Male', 'Yes', '0', 'Graduate', '', '63337', '0', '490', '180', '1', 'Urban', 'Y']\n",
      "['LP002103', '', 'Yes', '1', 'Graduate', 'Yes', '9833', '1833', '182', '180', '1', 'Urban', 'Y']\n",
      "['LP002106', 'Male', 'Yes', '', 'Graduate', 'Yes', '5503', '4490', '70', '', '1', 'Semiurban', 'Y']\n",
      "['LP002110', 'Male', 'Yes', '1', 'Graduate', '', '5250', '688', '160', '360', '1', 'Rural', 'Y']\n",
      "['LP002112', 'Male', 'Yes', '2', 'Graduate', 'Yes', '2500', '4600', '176', '360', '1', 'Rural', 'Y']\n",
      "['LP002113', 'Female', 'No', '3+', 'Not Graduate', 'No', '1830', '0', '', '360', '0', 'Urban', 'N']\n",
      "['LP002114', 'Female', 'No', '0', 'Graduate', 'No', '4160', '0', '71', '360', '1', 'Semiurban', 'Y']\n",
      "['LP002115', 'Male', 'Yes', '3+', 'Not Graduate', 'No', '2647', '1587', '173', '360', '1', 'Rural', 'N']\n",
      "['LP002116', 'Female', 'No', '0', 'Graduate', 'No', '2378', '0', '46', '360', '1', 'Rural', 'N']\n",
      "['LP002119', 'Male', 'Yes', '1', 'Not Graduate', 'No', '4554', '1229', '158', '360', '1', 'Urban', 'Y']\n",
      "['LP002126', 'Male', 'Yes', '3+', 'Not Graduate', 'No', '3173', '0', '74', '360', '1', 'Semiurban', 'Y']\n",
      "['LP002128', 'Male', 'Yes', '2', 'Graduate', '', '2583', '2330', '125', '360', '1', 'Rural', 'Y']\n",
      "['LP002129', 'Male', 'Yes', '0', 'Graduate', 'No', '2499', '2458', '160', '360', '1', 'Semiurban', 'Y']\n",
      "['LP002130', 'Male', 'Yes', '', 'Not Graduate', 'No', '3523', '3230', '152', '360', '0', 'Rural', 'N']\n",
      "['LP002131', 'Male', 'Yes', '2', 'Not Graduate', 'No', '3083', '2168', '126', '360', '1', 'Urban', 'Y']\n",
      "['LP002137', 'Male', 'Yes', '0', 'Graduate', 'No', '6333', '4583', '259', '360', '', 'Semiurban', 'Y']\n",
      "['LP002138', 'Male', 'Yes', '0', 'Graduate', 'No', '2625', '6250', '187', '360', '1', 'Rural', 'Y']\n",
      "['LP002139', 'Male', 'Yes', '0', 'Graduate', 'No', '9083', '0', '228', '360', '1', 'Semiurban', 'Y']\n",
      "['LP002140', 'Male', 'No', '0', 'Graduate', 'No', '8750', '4167', '308', '360', '1', 'Rural', 'N']\n",
      "['LP002141', 'Male', 'Yes', '3+', 'Graduate', 'No', '2666', '2083', '95', '360', '1', 'Rural', 'Y']\n",
      "['LP002142', 'Female', 'Yes', '0', 'Graduate', 'Yes', '5500', '0', '105', '360', '0', 'Rural', 'N']\n",
      "['LP002143', 'Female', 'Yes', '0', 'Graduate', 'No', '2423', '505', '130', '360', '1', 'Semiurban', 'Y']\n",
      "['LP002144', 'Female', 'No', '', 'Graduate', 'No', '3813', '0', '116', '180', '1', 'Urban', 'Y']\n",
      "['LP002149', 'Male', 'Yes', '2', 'Graduate', 'No', '8333', '3167', '165', '360', '1', 'Rural', 'Y']\n",
      "['LP002151', 'Male', 'Yes', '1', 'Graduate', 'No', '3875', '0', '67', '360', '1', 'Urban', 'N']\n",
      "['LP002158', 'Male', 'Yes', '0', 'Not Graduate', 'No', '3000', '1666', '100', '480', '0', 'Urban', 'N']\n",
      "['LP002160', 'Male', 'Yes', '3+', 'Graduate', 'No', '5167', '3167', '200', '360', '1', 'Semiurban', 'Y']\n",
      "['LP002161', 'Female', 'No', '1', 'Graduate', 'No', '4723', '0', '81', '360', '1', 'Semiurban', 'N']\n",
      "['LP002170', 'Male', 'Yes', '2', 'Graduate', 'No', '5000', '3667', '236', '360', '1', 'Semiurban', 'Y']\n",
      "['LP002175', 'Male', 'Yes', '0', 'Graduate', 'No', '4750', '2333', '130', '360', '1', 'Urban', 'Y']\n",
      "['LP002178', 'Male', 'Yes', '0', 'Graduate', 'No', '3013', '3033', '95', '300', '', 'Urban', 'Y']\n",
      "['LP002180', 'Male', 'No', '0', 'Graduate', 'Yes', '6822', '0', '141', '360', '1', 'Rural', 'Y']\n",
      "['LP002181', 'Male', 'No', '0', 'Not Graduate', 'No', '6216', '0', '133', '360', '1', 'Rural', 'N']\n",
      "['LP002187', 'Male', 'No', '0', 'Graduate', 'No', '2500', '0', '96', '480', '1', 'Semiurban', 'N']\n",
      "['LP002188', 'Male', 'No', '0', 'Graduate', 'No', '5124', '0', '124', '', '0', 'Rural', 'N']\n",
      "['LP002190', 'Male', 'Yes', '1', 'Graduate', 'No', '6325', '0', '175', '360', '1', 'Semiurban', 'Y']\n",
      "['LP002191', 'Male', 'Yes', '0', 'Graduate', 'No', '19730', '5266', '570', '360', '1', 'Rural', 'N']\n",
      "['LP002194', 'Female', 'No', '0', 'Graduate', 'Yes', '15759', '0', '55', '360', '1', 'Semiurban', 'Y']\n",
      "['LP002197', 'Male', 'Yes', '2', 'Graduate', 'No', '5185', '0', '155', '360', '1', 'Semiurban', 'Y']\n",
      "['LP002201', 'Male', 'Yes', '2', 'Graduate', 'Yes', '9323', '7873', '380', '300', '1', 'Rural', 'Y']\n",
      "['LP002205', 'Male', 'No', '1', 'Graduate', 'No', '3062', '1987', '111', '180', '0', 'Urban', 'N']\n",
      "['LP002209', 'Female', 'No', '0', 'Graduate', '', '2764', '1459', '110', '360', '1', 'Urban', 'Y']\n",
      "['LP002211', 'Male', 'Yes', '0', 'Graduate', 'No', '4817', '923', '120', '180', '1', 'Urban', 'Y']\n",
      "['LP002219', 'Male', 'Yes', '3+', 'Graduate', 'No', '8750', '4996', '130', '360', '1', 'Rural', 'Y']\n",
      "['LP002223', 'Male', 'Yes', '0', 'Graduate', 'No', '4310', '0', '130', '360', '', 'Semiurban', 'Y']\n",
      "['LP002224', 'Male', 'No', '0', 'Graduate', 'No', '3069', '0', '71', '480', '1', 'Urban', 'N']\n",
      "['LP002225', 'Male', 'Yes', '2', 'Graduate', 'No', '5391', '0', '130', '360', '1', 'Urban', 'Y']\n",
      "['LP002226', 'Male', 'Yes', '0', 'Graduate', '', '3333', '2500', '128', '360', '1', 'Semiurban', 'Y']\n",
      "['LP002229', 'Male', 'No', '0', 'Graduate', 'No', '5941', '4232', '296', '360', '1', 'Semiurban', 'Y']\n",
      "['LP002231', 'Female', 'No', '0', 'Graduate', 'No', '6000', '0', '156', '360', '1', 'Urban', 'Y']\n",
      "['LP002234', 'Male', 'No', '0', 'Graduate', 'Yes', '7167', '0', '128', '360', '1', 'Urban', 'Y']\n",
      "['LP002236', 'Male', 'Yes', '2', 'Graduate', 'No', '4566', '0', '100', '360', '1', 'Urban', 'N']\n",
      "['LP002237', 'Male', 'No', '1', 'Graduate', '', '3667', '0', '113', '180', '1', 'Urban', 'Y']\n",
      "['LP002239', 'Male', 'No', '0', 'Not Graduate', 'No', '2346', '1600', '132', '360', '1', 'Semiurban', 'Y']\n",
      "['LP002243', 'Male', 'Yes', '0', 'Not Graduate', 'No', '3010', '3136', '', '360', '0', 'Urban', 'N']\n",
      "['LP002244', 'Male', 'Yes', '0', 'Graduate', 'No', '2333', '2417', '136', '360', '1', 'Urban', 'Y']\n",
      "['LP002250', 'Male', 'Yes', '0', 'Graduate', 'No', '5488', '0', '125', '360', '1', 'Rural', 'Y']\n",
      "['LP002255', 'Male', 'No', '3+', 'Graduate', 'No', '9167', '0', '185', '360', '1', 'Rural', 'Y']\n",
      "['LP002262', 'Male', 'Yes', '3+', 'Graduate', 'No', '9504', '0', '275', '360', '1', 'Rural', 'Y']\n",
      "['LP002263', 'Male', 'Yes', '0', 'Graduate', 'No', '2583', '2115', '120', '360', '', 'Urban', 'Y']\n",
      "['LP002265', 'Male', 'Yes', '2', 'Not Graduate', 'No', '1993', '1625', '113', '180', '1', 'Semiurban', 'Y']\n",
      "['LP002266', 'Male', 'Yes', '2', 'Graduate', 'No', '3100', '1400', '113', '360', '1', 'Urban', 'Y']\n",
      "['LP002272', 'Male', 'Yes', '2', 'Graduate', 'No', '3276', '484', '135', '360', '', 'Semiurban', 'Y']\n",
      "['LP002277', 'Female', 'No', '0', 'Graduate', 'No', '3180', '0', '71', '360', '0', 'Urban', 'N']\n",
      "['LP002281', 'Male', 'Yes', '0', 'Graduate', 'No', '3033', '1459', '95', '360', '1', 'Urban', 'Y']\n",
      "['LP002284', 'Male', 'No', '0', 'Not Graduate', 'No', '3902', '1666', '109', '360', '1', 'Rural', 'Y']\n",
      "['LP002287', 'Female', 'No', '0', 'Graduate', 'No', '1500', '1800', '103', '360', '0', 'Semiurban', 'N']\n",
      "['LP002288', 'Male', 'Yes', '2', 'Not Graduate', 'No', '2889', '0', '45', '180', '0', 'Urban', 'N']\n",
      "['LP002296', 'Male', 'No', '0', 'Not Graduate', 'No', '2755', '0', '65', '300', '1', 'Rural', 'N']\n",
      "['LP002297', 'Male', 'No', '0', 'Graduate', 'No', '2500', '20000', '103', '360', '1', 'Semiurban', 'Y']\n",
      "['LP002300', 'Female', 'No', '0', 'Not Graduate', 'No', '1963', '0', '53', '360', '1', 'Semiurban', 'Y']\n",
      "['LP002301', 'Female', 'No', '0', 'Graduate', 'Yes', '7441', '0', '194', '360', '1', 'Rural', 'N']\n",
      "['LP002305', 'Female', 'No', '0', 'Graduate', 'No', '4547', '0', '115', '360', '1', 'Semiurban', 'Y']\n",
      "['LP002308', 'Male', 'Yes', '0', 'Not Graduate', 'No', '2167', '2400', '115', '360', '1', 'Urban', 'Y']\n",
      "['LP002314', 'Female', 'No', '0', 'Not Graduate', 'No', '2213', '0', '66', '360', '1', 'Rural', 'Y']\n",
      "['LP002315', 'Male', 'Yes', '1', 'Graduate', 'No', '8300', '0', '152', '300', '0', 'Semiurban', 'N']\n",
      "['LP002317', 'Male', 'Yes', '3+', 'Graduate', 'No', '81000', '0', '360', '360', '0', 'Rural', 'N']\n",
      "['LP002318', 'Female', 'No', '1', 'Not Graduate', 'Yes', '3867', '0', '62', '360', '1', 'Semiurban', 'N']\n",
      "['LP002319', 'Male', 'Yes', '0', 'Graduate', '', '6256', '0', '160', '360', '', 'Urban', 'Y']\n",
      "['LP002328', 'Male', 'Yes', '0', 'Not Graduate', 'No', '6096', '0', '218', '360', '0', 'Rural', 'N']\n",
      "['LP002332', 'Male', 'Yes', '0', 'Not Graduate', 'No', '2253', '2033', '110', '360', '1', 'Rural', 'Y']\n",
      "['LP002335', 'Female', 'Yes', '0', 'Not Graduate', 'No', '2149', '3237', '178', '360', '0', 'Semiurban', 'N']\n",
      "['LP002337', 'Female', 'No', '0', 'Graduate', 'No', '2995', '0', '60', '360', '1', 'Urban', 'Y']\n",
      "['LP002341', 'Female', 'No', '1', 'Graduate', 'No', '2600', '0', '160', '360', '1', 'Urban', 'N']\n",
      "['LP002342', 'Male', 'Yes', '2', 'Graduate', 'Yes', '1600', '20000', '239', '360', '1', 'Urban', 'N']\n",
      "['LP002345', 'Male', 'Yes', '0', 'Graduate', 'No', '1025', '2773', '112', '360', '1', 'Rural', 'Y']\n",
      "['LP002347', 'Male', 'Yes', '0', 'Graduate', 'No', '3246', '1417', '138', '360', '1', 'Semiurban', 'Y']\n",
      "['LP002348', 'Male', 'Yes', '0', 'Graduate', 'No', '5829', '0', '138', '360', '1', 'Rural', 'Y']\n",
      "['LP002357', 'Female', 'No', '0', 'Not Graduate', 'No', '2720', '0', '80', '', '0', 'Urban', 'N']\n",
      "['LP002361', 'Male', 'Yes', '0', 'Graduate', 'No', '1820', '1719', '100', '360', '1', 'Urban', 'Y']\n",
      "['LP002362', 'Male', 'Yes', '1', 'Graduate', 'No', '7250', '1667', '110', '', '0', 'Urban', 'N']\n",
      "['LP002364', 'Male', 'Yes', '0', 'Graduate', 'No', '14880', '0', '96', '360', '1', 'Semiurban', 'Y']\n",
      "['LP002366', 'Male', 'Yes', '0', 'Graduate', 'No', '2666', '4300', '121', '360', '1', 'Rural', 'Y']\n",
      "['LP002367', 'Female', 'No', '1', 'Not Graduate', 'No', '4606', '0', '81', '360', '1', 'Rural', 'N']\n",
      "['LP002368', 'Male', 'Yes', '2', 'Graduate', 'No', '5935', '0', '133', '360', '1', 'Semiurban', 'Y']\n",
      "['LP002369', 'Male', 'Yes', '0', 'Graduate', 'No', '2920', '16.12000084', '87', '360', '1', 'Rural', 'Y']\n",
      "['LP002370', 'Male', 'No', '0', 'Not Graduate', 'No', '2717', '0', '60', '180', '1', 'Urban', 'Y']\n",
      "['LP002377', 'Female', 'No', '1', 'Graduate', 'Yes', '8624', '0', '150', '360', '1', 'Semiurban', 'Y']\n",
      "['LP002379', 'Male', 'No', '0', 'Graduate', 'No', '6500', '0', '105', '360', '0', 'Rural', 'N']\n",
      "['LP002386', 'Male', 'No', '0', 'Graduate', '', '12876', '0', '405', '360', '1', 'Semiurban', 'Y']\n",
      "['LP002387', 'Male', 'Yes', '0', 'Graduate', 'No', '2425', '2340', '143', '360', '1', 'Semiurban', 'Y']\n",
      "['LP002390', 'Male', 'No', '0', 'Graduate', 'No', '3750', '0', '100', '360', '1', 'Urban', 'Y']\n",
      "['LP002393', 'Female', '', '', 'Graduate', 'No', '10047', '0', '', '240', '1', 'Semiurban', 'Y']\n",
      "['LP002398', 'Male', 'No', '0', 'Graduate', 'No', '1926', '1851', '50', '360', '1', 'Semiurban', 'Y']\n",
      "['LP002401', 'Male', 'Yes', '0', 'Graduate', 'No', '2213', '1125', '', '360', '1', 'Urban', 'Y']\n",
      "['LP002403', 'Male', 'No', '0', 'Graduate', 'Yes', '10416', '0', '187', '360', '0', 'Urban', 'N']\n",
      "['LP002407', 'Female', 'Yes', '0', 'Not Graduate', 'Yes', '7142', '0', '138', '360', '1', 'Rural', 'Y']\n",
      "['LP002408', 'Male', 'No', '0', 'Graduate', 'No', '3660', '5064', '187', '360', '1', 'Semiurban', 'Y']\n",
      "['LP002409', 'Male', 'Yes', '0', 'Graduate', 'No', '7901', '1833', '180', '360', '1', 'Rural', 'Y']\n",
      "['LP002418', 'Male', 'No', '3+', 'Not Graduate', 'No', '4707', '1993', '148', '360', '1', 'Semiurban', 'Y']\n",
      "['LP002422', 'Male', 'No', '1', 'Graduate', 'No', '37719', '0', '152', '360', '1', 'Semiurban', 'Y']\n",
      "['LP002424', 'Male', 'Yes', '0', 'Graduate', 'No', '7333', '8333', '175', '300', '', 'Rural', 'Y']\n",
      "['LP002429', 'Male', 'Yes', '1', 'Graduate', 'Yes', '3466', '1210', '130', '360', '1', 'Rural', 'Y']\n",
      "['LP002434', 'Male', 'Yes', '2', 'Not Graduate', 'No', '4652', '0', '110', '360', '1', 'Rural', 'Y']\n",
      "['LP002435', 'Male', 'Yes', '0', 'Graduate', '', '3539', '1376', '55', '360', '1', 'Rural', 'N']\n",
      "['LP002443', 'Male', 'Yes', '2', 'Graduate', 'No', '3340', '1710', '150', '360', '0', 'Rural', 'N']\n",
      "['LP002444', 'Male', 'No', '1', 'Not Graduate', 'Yes', '2769', '1542', '190', '360', '', 'Semiurban', 'N']\n",
      "['LP002446', 'Male', 'Yes', '2', 'Not Graduate', 'No', '2309', '1255', '125', '360', '0', 'Rural', 'N']\n",
      "['LP002447', 'Male', 'Yes', '2', 'Not Graduate', 'No', '1958', '1456', '60', '300', '', 'Urban', 'Y']\n",
      "['LP002448', 'Male', 'Yes', '0', 'Graduate', 'No', '3948', '1733', '149', '360', '0', 'Rural', 'N']\n",
      "['LP002449', 'Male', 'Yes', '0', 'Graduate', 'No', '2483', '2466', '90', '180', '0', 'Rural', 'Y']\n",
      "['LP002453', 'Male', 'No', '0', 'Graduate', 'Yes', '7085', '0', '84', '360', '1', 'Semiurban', 'Y']\n",
      "['LP002455', 'Male', 'Yes', '2', 'Graduate', 'No', '3859', '0', '96', '360', '1', 'Semiurban', 'Y']\n",
      "['LP002459', 'Male', 'Yes', '0', 'Graduate', 'No', '4301', '0', '118', '360', '1', 'Urban', 'Y']\n",
      "['LP002467', 'Male', 'Yes', '0', 'Graduate', 'No', '3708', '2569', '173', '360', '1', 'Urban', 'N']\n",
      "['LP002472', 'Male', 'No', '2', 'Graduate', 'No', '4354', '0', '136', '360', '1', 'Rural', 'Y']\n",
      "['LP002473', 'Male', 'Yes', '0', 'Graduate', 'No', '8334', '0', '160', '360', '1', 'Semiurban', 'N']\n",
      "['LP002478', '', 'Yes', '0', 'Graduate', 'Yes', '2083', '4083', '160', '360', '', 'Semiurban', 'Y']\n",
      "['LP002484', 'Male', 'Yes', '3+', 'Graduate', 'No', '7740', '0', '128', '180', '1', 'Urban', 'Y']\n",
      "['LP002487', 'Male', 'Yes', '0', 'Graduate', 'No', '3015', '2188', '153', '360', '1', 'Rural', 'Y']\n",
      "['LP002489', 'Female', 'No', '1', 'Not Graduate', '', '5191', '0', '132', '360', '1', 'Semiurban', 'Y']\n",
      "['LP002493', 'Male', 'No', '0', 'Graduate', 'No', '4166', '0', '98', '360', '0', 'Semiurban', 'N']\n",
      "['LP002494', 'Male', 'No', '0', 'Graduate', 'No', '6000', '0', '140', '360', '1', 'Rural', 'Y']\n",
      "['LP002500', 'Male', 'Yes', '3+', 'Not Graduate', 'No', '2947', '1664', '70', '180', '0', 'Urban', 'N']\n",
      "['LP002501', '', 'Yes', '0', 'Graduate', 'No', '16692', '0', '110', '360', '1', 'Semiurban', 'Y']\n",
      "['LP002502', 'Female', 'Yes', '2', 'Not Graduate', '', '210', '2917', '98', '360', '1', 'Semiurban', 'Y']\n",
      "['LP002505', 'Male', 'Yes', '0', 'Graduate', 'No', '4333', '2451', '110', '360', '1', 'Urban', 'N']\n",
      "['LP002515', 'Male', 'Yes', '1', 'Graduate', 'Yes', '3450', '2079', '162', '360', '1', 'Semiurban', 'Y']\n",
      "['LP002517', 'Male', 'Yes', '1', 'Not Graduate', 'No', '2653', '1500', '113', '180', '0', 'Rural', 'N']\n",
      "['LP002519', 'Male', 'Yes', '3+', 'Graduate', 'No', '4691', '0', '100', '360', '1', 'Semiurban', 'Y']\n",
      "['LP002522', 'Female', 'No', '0', 'Graduate', 'Yes', '2500', '0', '93', '360', '', 'Urban', 'Y']\n",
      "['LP002524', 'Male', 'No', '2', 'Graduate', 'No', '5532', '4648', '162', '360', '1', 'Rural', 'Y']\n",
      "['LP002527', 'Male', 'Yes', '2', 'Graduate', 'Yes', '16525', '1014', '150', '360', '1', 'Rural', 'Y']\n",
      "['LP002529', 'Male', 'Yes', '2', 'Graduate', 'No', '6700', '1750', '230', '300', '1', 'Semiurban', 'Y']\n",
      "['LP002530', '', 'Yes', '2', 'Graduate', 'No', '2873', '1872', '132', '360', '0', 'Semiurban', 'N']\n",
      "['LP002531', 'Male', 'Yes', '1', 'Graduate', 'Yes', '16667', '2250', '86', '360', '1', 'Semiurban', 'Y']\n",
      "['LP002533', 'Male', 'Yes', '2', 'Graduate', 'No', '2947', '1603', '', '360', '1', 'Urban', 'N']\n",
      "['LP002534', 'Female', 'No', '0', 'Not Graduate', 'No', '4350', '0', '154', '360', '1', 'Rural', 'Y']\n",
      "['LP002536', 'Male', 'Yes', '3+', 'Not Graduate', 'No', '3095', '0', '113', '360', '1', 'Rural', 'Y']\n",
      "['LP002537', 'Male', 'Yes', '0', 'Graduate', 'No', '2083', '3150', '128', '360', '1', 'Semiurban', 'Y']\n",
      "['LP002541', 'Male', 'Yes', '0', 'Graduate', 'No', '10833', '0', '234', '360', '1', 'Semiurban', 'Y']\n",
      "['LP002543', 'Male', 'Yes', '2', 'Graduate', 'No', '8333', '0', '246', '360', '1', 'Semiurban', 'Y']\n",
      "['LP002544', 'Male', 'Yes', '1', 'Not Graduate', 'No', '1958', '2436', '131', '360', '1', 'Rural', 'Y']\n",
      "['LP002545', 'Male', 'No', '2', 'Graduate', 'No', '3547', '0', '80', '360', '0', 'Rural', 'N']\n",
      "['LP002547', 'Male', 'Yes', '1', 'Graduate', 'No', '18333', '0', '500', '360', '1', 'Urban', 'N']\n",
      "['LP002555', 'Male', 'Yes', '2', 'Graduate', 'Yes', '4583', '2083', '160', '360', '1', 'Semiurban', 'Y']\n",
      "['LP002556', 'Male', 'No', '0', 'Graduate', 'No', '2435', '0', '75', '360', '1', 'Urban', 'N']\n",
      "['LP002560', 'Male', 'No', '0', 'Not Graduate', 'No', '2699', '2785', '96', '360', '', 'Semiurban', 'Y']\n",
      "['LP002562', 'Male', 'Yes', '1', 'Not Graduate', 'No', '5333', '1131', '186', '360', '', 'Urban', 'Y']\n",
      "['LP002571', 'Male', 'No', '0', 'Not Graduate', 'No', '3691', '0', '110', '360', '1', 'Rural', 'Y']\n",
      "['LP002582', 'Female', 'No', '0', 'Not Graduate', 'Yes', '17263', '0', '225', '360', '1', 'Semiurban', 'Y']\n",
      "['LP002585', 'Male', 'Yes', '0', 'Graduate', 'No', '3597', '2157', '119', '360', '0', 'Rural', 'N']\n",
      "['LP002586', 'Female', 'Yes', '1', 'Graduate', 'No', '3326', '913', '105', '84', '1', 'Semiurban', 'Y']\n",
      "['LP002587', 'Male', 'Yes', '0', 'Not Graduate', 'No', '2600', '1700', '107', '360', '1', 'Rural', 'Y']\n",
      "['LP002588', 'Male', 'Yes', '0', 'Graduate', 'No', '4625', '2857', '111', '12', '', 'Urban', 'Y']\n",
      "['LP002600', 'Male', 'Yes', '1', 'Graduate', 'Yes', '2895', '0', '95', '360', '1', 'Semiurban', 'Y']\n",
      "['LP002602', 'Male', 'No', '0', 'Graduate', 'No', '6283', '4416', '209', '360', '0', 'Rural', 'N']\n",
      "['LP002603', 'Female', 'No', '0', 'Graduate', 'No', '645', '3683', '113', '480', '1', 'Rural', 'Y']\n",
      "['LP002606', 'Female', 'No', '0', 'Graduate', 'No', '3159', '0', '100', '360', '1', 'Semiurban', 'Y']\n",
      "['LP002615', 'Male', 'Yes', '2', 'Graduate', 'No', '4865', '5624', '208', '360', '1', 'Semiurban', 'Y']\n",
      "['LP002618', 'Male', 'Yes', '1', 'Not Graduate', 'No', '4050', '5302', '138', '360', '', 'Rural', 'N']\n",
      "['LP002619', 'Male', 'Yes', '0', 'Not Graduate', 'No', '3814', '1483', '124', '300', '1', 'Semiurban', 'Y']\n",
      "['LP002622', 'Male', 'Yes', '2', 'Graduate', 'No', '3510', '4416', '243', '360', '1', 'Rural', 'Y']\n",
      "['LP002624', 'Male', 'Yes', '0', 'Graduate', 'No', '20833', '6667', '480', '360', '', 'Urban', 'Y']\n",
      "['LP002625', '', 'No', '0', 'Graduate', 'No', '3583', '0', '96', '360', '1', 'Urban', 'N']\n",
      "['LP002626', 'Male', 'Yes', '0', 'Graduate', 'Yes', '2479', '3013', '188', '360', '1', 'Urban', 'Y']\n",
      "['LP002634', 'Female', 'No', '1', 'Graduate', 'No', '13262', '0', '40', '360', '1', 'Urban', 'Y']\n",
      "['LP002637', 'Male', 'No', '0', 'Not Graduate', 'No', '3598', '1287', '100', '360', '1', 'Rural', 'N']\n",
      "['LP002640', 'Male', 'Yes', '1', 'Graduate', 'No', '6065', '2004', '250', '360', '1', 'Semiurban', 'Y']\n",
      "['LP002643', 'Male', 'Yes', '2', 'Graduate', 'No', '3283', '2035', '148', '360', '1', 'Urban', 'Y']\n",
      "['LP002648', 'Male', 'Yes', '0', 'Graduate', 'No', '2130', '6666', '70', '180', '1', 'Semiurban', 'N']\n",
      "['LP002652', 'Male', 'No', '0', 'Graduate', 'No', '5815', '3666', '311', '360', '1', 'Rural', 'N']\n",
      "['LP002659', 'Male', 'Yes', '3+', 'Graduate', 'No', '3466', '3428', '150', '360', '1', 'Rural', 'Y']\n",
      "['LP002670', 'Female', 'Yes', '2', 'Graduate', 'No', '2031', '1632', '113', '480', '1', 'Semiurban', 'Y']\n",
      "['LP002682', 'Male', 'Yes', '', 'Not Graduate', 'No', '3074', '1800', '123', '360', '0', 'Semiurban', 'N']\n",
      "['LP002683', 'Male', 'No', '0', 'Graduate', 'No', '4683', '1915', '185', '360', '1', 'Semiurban', 'N']\n",
      "['LP002684', 'Female', 'No', '0', 'Not Graduate', 'No', '3400', '0', '95', '360', '1', 'Rural', 'N']\n",
      "['LP002689', 'Male', 'Yes', '2', 'Not Graduate', 'No', '2192', '1742', '45', '360', '1', 'Semiurban', 'Y']\n",
      "['LP002690', 'Male', 'No', '0', 'Graduate', 'No', '2500', '0', '55', '360', '1', 'Semiurban', 'Y']\n",
      "['LP002692', 'Male', 'Yes', '3+', 'Graduate', 'Yes', '5677', '1424', '100', '360', '1', 'Rural', 'Y']\n",
      "['LP002693', 'Male', 'Yes', '2', 'Graduate', 'Yes', '7948', '7166', '480', '360', '1', 'Rural', 'Y']\n",
      "['LP002697', 'Male', 'No', '0', 'Graduate', 'No', '4680', '2087', '', '360', '1', 'Semiurban', 'N']\n",
      "['LP002699', 'Male', 'Yes', '2', 'Graduate', 'Yes', '17500', '0', '400', '360', '1', 'Rural', 'Y']\n",
      "['LP002705', 'Male', 'Yes', '0', 'Graduate', 'No', '3775', '0', '110', '360', '1', 'Semiurban', 'Y']\n",
      "['LP002706', 'Male', 'Yes', '1', 'Not Graduate', 'No', '5285', '1430', '161', '360', '0', 'Semiurban', 'Y']\n",
      "['LP002714', 'Male', 'No', '1', 'Not Graduate', 'No', '2679', '1302', '94', '360', '1', 'Semiurban', 'Y']\n",
      "['LP002716', 'Male', 'No', '0', 'Not Graduate', 'No', '6783', '0', '130', '360', '1', 'Semiurban', 'Y']\n",
      "['LP002717', 'Male', 'Yes', '0', 'Graduate', 'No', '1025', '5500', '216', '360', '', 'Rural', 'Y']\n",
      "['LP002720', 'Male', 'Yes', '3+', 'Graduate', 'No', '4281', '0', '100', '360', '1', 'Urban', 'Y']\n",
      "['LP002723', 'Male', 'No', '2', 'Graduate', 'No', '3588', '0', '110', '360', '0', 'Rural', 'N']\n",
      "['LP002729', 'Male', 'No', '1', 'Graduate', 'No', '11250', '0', '196', '360', '', 'Semiurban', 'N']\n",
      "['LP002731', 'Female', 'No', '0', 'Not Graduate', 'Yes', '18165', '0', '125', '360', '1', 'Urban', 'Y']\n",
      "['LP002732', 'Male', 'No', '0', 'Not Graduate', '', '2550', '2042', '126', '360', '1', 'Rural', 'Y']\n",
      "['LP002734', 'Male', 'Yes', '0', 'Graduate', 'No', '6133', '3906', '324', '360', '1', 'Urban', 'Y']\n",
      "['LP002738', 'Male', 'No', '2', 'Graduate', 'No', '3617', '0', '107', '360', '1', 'Semiurban', 'Y']\n",
      "['LP002739', 'Male', 'Yes', '0', 'Not Graduate', 'No', '2917', '536', '66', '360', '1', 'Rural', 'N']\n",
      "['LP002740', 'Male', 'Yes', '3+', 'Graduate', 'No', '6417', '0', '157', '180', '1', 'Rural', 'Y']\n",
      "['LP002741', 'Female', 'Yes', '1', 'Graduate', 'No', '4608', '2845', '140', '180', '1', 'Semiurban', 'Y']\n",
      "['LP002743', 'Female', 'No', '0', 'Graduate', 'No', '2138', '0', '99', '360', '0', 'Semiurban', 'N']\n",
      "['LP002753', 'Female', 'No', '1', 'Graduate', '', '3652', '0', '95', '360', '1', 'Semiurban', 'Y']\n",
      "['LP002755', 'Male', 'Yes', '1', 'Not Graduate', 'No', '2239', '2524', '128', '360', '1', 'Urban', 'Y']\n",
      "['LP002757', 'Female', 'Yes', '0', 'Not Graduate', 'No', '3017', '663', '102', '360', '', 'Semiurban', 'Y']\n",
      "['LP002767', 'Male', 'Yes', '0', 'Graduate', 'No', '2768', '1950', '155', '360', '1', 'Rural', 'Y']\n",
      "['LP002768', 'Male', 'No', '0', 'Not Graduate', 'No', '3358', '0', '80', '36', '1', 'Semiurban', 'N']\n",
      "['LP002772', 'Male', 'No', '0', 'Graduate', 'No', '2526', '1783', '145', '360', '1', 'Rural', 'Y']\n",
      "['LP002776', 'Female', 'No', '0', 'Graduate', 'No', '5000', '0', '103', '360', '0', 'Semiurban', 'N']\n",
      "['LP002777', 'Male', 'Yes', '0', 'Graduate', 'No', '2785', '2016', '110', '360', '1', 'Rural', 'Y']\n",
      "['LP002778', 'Male', 'Yes', '2', 'Graduate', 'Yes', '6633', '0', '', '360', '0', 'Rural', 'N']\n",
      "['LP002784', 'Male', 'Yes', '1', 'Not Graduate', 'No', '2492', '2375', '', '360', '1', 'Rural', 'Y']\n",
      "['LP002785', 'Male', 'Yes', '1', 'Graduate', 'No', '3333', '3250', '158', '360', '1', 'Urban', 'Y']\n",
      "['LP002788', 'Male', 'Yes', '0', 'Not Graduate', 'No', '2454', '2333', '181', '360', '0', 'Urban', 'N']\n",
      "['LP002789', 'Male', 'Yes', '0', 'Graduate', 'No', '3593', '4266', '132', '180', '0', 'Rural', 'N']\n",
      "['LP002792', 'Male', 'Yes', '1', 'Graduate', 'No', '5468', '1032', '26', '360', '1', 'Semiurban', 'Y']\n",
      "['LP002794', 'Female', 'No', '0', 'Graduate', 'No', '2667', '1625', '84', '360', '', 'Urban', 'Y']\n",
      "['LP002795', 'Male', 'Yes', '3+', 'Graduate', 'Yes', '10139', '0', '260', '360', '1', 'Semiurban', 'Y']\n",
      "['LP002798', 'Male', 'Yes', '0', 'Graduate', 'No', '3887', '2669', '162', '360', '1', 'Semiurban', 'Y']\n",
      "['LP002804', 'Female', 'Yes', '0', 'Graduate', 'No', '4180', '2306', '182', '360', '1', 'Semiurban', 'Y']\n",
      "['LP002807', 'Male', 'Yes', '2', 'Not Graduate', 'No', '3675', '242', '108', '360', '1', 'Semiurban', 'Y']\n",
      "['LP002813', 'Female', 'Yes', '1', 'Graduate', 'Yes', '19484', '0', '600', '360', '1', 'Semiurban', 'Y']\n",
      "['LP002820', 'Male', 'Yes', '0', 'Graduate', 'No', '5923', '2054', '211', '360', '1', 'Rural', 'Y']\n",
      "['LP002821', 'Male', 'No', '0', 'Not Graduate', 'Yes', '5800', '0', '132', '360', '1', 'Semiurban', 'Y']\n",
      "['LP002832', 'Male', 'Yes', '2', 'Graduate', 'No', '8799', '0', '258', '360', '0', 'Urban', 'N']\n",
      "['LP002833', 'Male', 'Yes', '0', 'Not Graduate', 'No', '4467', '0', '120', '360', '', 'Rural', 'Y']\n",
      "['LP002836', 'Male', 'No', '0', 'Graduate', 'No', '3333', '0', '70', '360', '1', 'Urban', 'Y']\n",
      "['LP002837', 'Male', 'Yes', '3+', 'Graduate', 'No', '3400', '2500', '123', '360', '0', 'Rural', 'N']\n",
      "['LP002840', 'Female', 'No', '0', 'Graduate', 'No', '2378', '0', '9', '360', '1', 'Urban', 'N']\n",
      "['LP002841', 'Male', 'Yes', '0', 'Graduate', 'No', '3166', '2064', '104', '360', '0', 'Urban', 'N']\n",
      "['LP002842', 'Male', 'Yes', '1', 'Graduate', 'No', '3417', '1750', '186', '360', '1', 'Urban', 'Y']\n",
      "['LP002847', 'Male', 'Yes', '', 'Graduate', 'No', '5116', '1451', '165', '360', '0', 'Urban', 'N']\n",
      "['LP002855', 'Male', 'Yes', '2', 'Graduate', 'No', '16666', '0', '275', '360', '1', 'Urban', 'Y']\n",
      "['LP002862', 'Male', 'Yes', '2', 'Not Graduate', 'No', '6125', '1625', '187', '480', '1', 'Semiurban', 'N']\n",
      "['LP002863', 'Male', 'Yes', '3+', 'Graduate', 'No', '6406', '0', '150', '360', '1', 'Semiurban', 'N']\n",
      "['LP002868', 'Male', 'Yes', '2', 'Graduate', 'No', '3159', '461', '108', '84', '1', 'Urban', 'Y']\n",
      "['LP002872', '', 'Yes', '0', 'Graduate', 'No', '3087', '2210', '136', '360', '0', 'Semiurban', 'N']\n",
      "['LP002874', 'Male', 'No', '0', 'Graduate', 'No', '3229', '2739', '110', '360', '1', 'Urban', 'Y']\n",
      "['LP002877', 'Male', 'Yes', '1', 'Graduate', 'No', '1782', '2232', '107', '360', '1', 'Rural', 'Y']\n",
      "['LP002888', 'Male', 'No', '0', 'Graduate', '', '3182', '2917', '161', '360', '1', 'Urban', 'Y']\n",
      "['LP002892', 'Male', 'Yes', '2', 'Graduate', 'No', '6540', '0', '205', '360', '1', 'Semiurban', 'Y']\n",
      "['LP002893', 'Male', 'No', '0', 'Graduate', 'No', '1836', '33837', '90', '360', '1', 'Urban', 'N']\n",
      "['LP002894', 'Female', 'Yes', '0', 'Graduate', 'No', '3166', '0', '36', '360', '1', 'Semiurban', 'Y']\n",
      "['LP002898', 'Male', 'Yes', '1', 'Graduate', 'No', '1880', '0', '61', '360', '', 'Rural', 'N']\n",
      "['LP002911', 'Male', 'Yes', '1', 'Graduate', 'No', '2787', '1917', '146', '360', '0', 'Rural', 'N']\n",
      "['LP002912', 'Male', 'Yes', '1', 'Graduate', 'No', '4283', '3000', '172', '84', '1', 'Rural', 'N']\n",
      "['LP002916', 'Male', 'Yes', '0', 'Graduate', 'No', '2297', '1522', '104', '360', '1', 'Urban', 'Y']\n",
      "['LP002917', 'Female', 'No', '0', 'Not Graduate', 'No', '2165', '0', '70', '360', '1', 'Semiurban', 'Y']\n",
      "['LP002925', '', 'No', '0', 'Graduate', 'No', '4750', '0', '94', '360', '1', 'Semiurban', 'Y']\n",
      "['LP002926', 'Male', 'Yes', '2', 'Graduate', 'Yes', '2726', '0', '106', '360', '0', 'Semiurban', 'N']\n",
      "['LP002928', 'Male', 'Yes', '0', 'Graduate', 'No', '3000', '3416', '56', '180', '1', 'Semiurban', 'Y']\n",
      "['LP002931', 'Male', 'Yes', '2', 'Graduate', 'Yes', '6000', '0', '205', '240', '1', 'Semiurban', 'N']\n",
      "['LP002933', '', 'No', '3+', 'Graduate', 'Yes', '9357', '0', '292', '360', '1', 'Semiurban', 'Y']\n",
      "['LP002936', 'Male', 'Yes', '0', 'Graduate', 'No', '3859', '3300', '142', '180', '1', 'Rural', 'Y']\n",
      "['LP002938', 'Male', 'Yes', '0', 'Graduate', 'Yes', '16120', '0', '260', '360', '1', 'Urban', 'Y']\n",
      "['LP002940', 'Male', 'No', '0', 'Not Graduate', 'No', '3833', '0', '110', '360', '1', 'Rural', 'Y']\n",
      "['LP002941', 'Male', 'Yes', '2', 'Not Graduate', 'Yes', '6383', '1000', '187', '360', '1', 'Rural', 'N']\n",
      "['LP002943', 'Male', 'No', '', 'Graduate', 'No', '2987', '0', '88', '360', '0', 'Semiurban', 'N']\n",
      "['LP002945', 'Male', 'Yes', '0', 'Graduate', 'Yes', '9963', '0', '180', '360', '1', 'Rural', 'Y']\n",
      "['LP002948', 'Male', 'Yes', '2', 'Graduate', 'No', '5780', '0', '192', '360', '1', 'Urban', 'Y']\n",
      "['LP002949', 'Female', 'No', '3+', 'Graduate', '', '416', '41667', '350', '180', '', 'Urban', 'N']\n",
      "['LP002950', 'Male', 'Yes', '0', 'Not Graduate', '', '2894', '2792', '155', '360', '1', 'Rural', 'Y']\n",
      "['LP002953', 'Male', 'Yes', '3+', 'Graduate', 'No', '5703', '0', '128', '360', '1', 'Urban', 'Y']\n",
      "['LP002958', 'Male', 'No', '0', 'Graduate', 'No', '3676', '4301', '172', '360', '1', 'Rural', 'Y']\n",
      "['LP002959', 'Female', 'Yes', '1', 'Graduate', 'No', '12000', '0', '496', '360', '1', 'Semiurban', 'Y']\n",
      "['LP002960', 'Male', 'Yes', '0', 'Not Graduate', 'No', '2400', '3800', '', '180', '1', 'Urban', 'N']\n",
      "['LP002961', 'Male', 'Yes', '1', 'Graduate', 'No', '3400', '2500', '173', '360', '1', 'Semiurban', 'Y']\n",
      "['LP002964', 'Male', 'Yes', '2', 'Not Graduate', 'No', '3987', '1411', '157', '360', '1', 'Rural', 'Y']\n",
      "['LP002974', 'Male', 'Yes', '0', 'Graduate', 'No', '3232', '1950', '108', '360', '1', 'Rural', 'Y']\n",
      "['LP002978', 'Female', 'No', '0', 'Graduate', 'No', '2900', '0', '71', '360', '1', 'Rural', 'Y']\n",
      "['LP002979', 'Male', 'Yes', '3+', 'Graduate', 'No', '4106', '0', '40', '180', '1', 'Rural', 'Y']\n",
      "['LP002983', 'Male', 'Yes', '1', 'Graduate', 'No', '8072', '240', '253', '360', '1', 'Urban', 'Y']\n",
      "['LP002984', 'Male', 'Yes', '2', 'Graduate', 'No', '7583', '0', '187', '360', '1', 'Urban', 'Y']\n",
      "['LP002990', 'Female', 'No', '0', 'Graduate', 'Yes', '4583', '0', '133', '360', '0', 'Semiurban', 'N']\n"
     ]
    }
   ],
   "source": [
    "# Import module\n",
    "import csv\n",
    "import pandas as pd\n",
    "\n",
    "# Create a file pointer\n",
    "csv_file = open('loan_data.csv')\n",
    "\n",
    "# Read the csv data\n",
    "contents = csv.reader(csv_file)\n",
    "\n",
    "# Print the header \n",
    "header = next(contents)\n",
    "print(header)\n",
    "\n",
    "# Processing the remaining items\n",
    "for row in contents:\n",
    "    print(row)\n",
    "\n",
    "# Close the file\n",
    "csv_file.close()\n",
    "\n",
    "\n",
    " \n"
   ]
  },
  {
   "cell_type": "markdown",
   "metadata": {},
   "source": [
    "## Python Exception handling\n",
    "- An exception (or exceptional event) is a problem that arises during the execution of a program.\n",
    "- In Python, exceptions can be handled using a try statement.\n",
    "\n"
   ]
  },
  {
   "cell_type": "code",
   "execution_count": 96,
   "metadata": {
    "scrolled": true
   },
   "outputs": [
    {
     "name": "stdout",
     "output_type": "stream",
     "text": [
      "Something went wrong when opening the file\n"
     ]
    }
   ],
   "source": [
    "# Here Something went wrong when opening the file will printed\n",
    "# As there no file exist.\n",
    "try:\n",
    "  f = open(\"demofile.txt\")\n",
    "  try:\n",
    "    f.write(\"Hello Ipsum\")\n",
    "  except:\n",
    "    print(\"Something went wrong when writing to the file\")\n",
    "  finally:\n",
    "    f.close()\n",
    "except:\n",
    "  print(\"Something went wrong when opening the file\")"
   ]
  },
  {
   "cell_type": "markdown",
   "metadata": {},
   "source": [
    "## Dates and Time handling in python\n",
    "- `datetime` module is used to handle dates and time in python\n"
   ]
  },
  {
   "cell_type": "code",
   "execution_count": 100,
   "metadata": {},
   "outputs": [
    {
     "name": "stdout",
     "output_type": "stream",
     "text": [
      "2022\n",
      "Monday\n"
     ]
    }
   ],
   "source": [
    "import datetime\n",
    "\n",
    "# current time \n",
    "today = datetime.datetime.now()\n",
    "\n",
    "# Accessing values\n",
    "print(today.year)\n",
    "print(today.strftime(\"%A\"))"
   ]
  }
 ],
 "metadata": {
  "kernelspec": {
   "display_name": "Python 3",
   "language": "python",
   "name": "python3"
  },
  "language_info": {
   "codemirror_mode": {
    "name": "ipython",
    "version": 3
   },
   "file_extension": ".py",
   "mimetype": "text/x-python",
   "name": "python",
   "nbconvert_exporter": "python",
   "pygments_lexer": "ipython3",
   "version": "3.7.3"
  }
 },
 "nbformat": 4,
 "nbformat_minor": 1
}
